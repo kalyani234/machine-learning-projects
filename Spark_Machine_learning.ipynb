{
  "nbformat": 4,
  "nbformat_minor": 0,
  "metadata": {
    "colab": {
      "provenance": [],
      "authorship_tag": "ABX9TyOdz4q2N3qBnyixhhvX0rbA",
      "include_colab_link": true
    },
    "kernelspec": {
      "name": "python3",
      "display_name": "Python 3"
    },
    "language_info": {
      "name": "python"
    }
  },
  "cells": [
    {
      "cell_type": "markdown",
      "metadata": {
        "id": "view-in-github",
        "colab_type": "text"
      },
      "source": [
        "<a href=\"https://colab.research.google.com/github/kalyani234/machine-learning-projects/blob/main/Spark_Machine_learning.ipynb\" target=\"_parent\"><img src=\"https://colab.research.google.com/assets/colab-badge.svg\" alt=\"Open In Colab\"/></a>"
      ]
    },
    {
      "cell_type": "code",
      "execution_count": 36,
      "metadata": {
        "colab": {
          "base_uri": "https://localhost:8080/"
        },
        "id": "yHozbr2rYh48",
        "outputId": "eebcf869-dc67-434d-eb87-318c61267096"
      },
      "outputs": [
        {
          "output_type": "stream",
          "name": "stdout",
          "text": [
            "Requirement already satisfied: pyspark in /usr/local/lib/python3.10/dist-packages (3.5.1)\n",
            "Requirement already satisfied: py4j==0.10.9.7 in /usr/local/lib/python3.10/dist-packages (from pyspark) (0.10.9.7)\n"
          ]
        }
      ],
      "source": [
        "!pip install pyspark"
      ]
    },
    {
      "cell_type": "code",
      "source": [
        "from pyspark.sql import SparkSession\n",
        "\n",
        "spark = SparkSession.builder\\\n",
        "        .master(\"local\")\\\n",
        "        .appName(\"Colab\")\\\n",
        "        .config(\"spark.ui.port\", '4050')\\\n",
        "        .getOrCreate()\n",
        "\n",
        "spark"
      ],
      "metadata": {
        "colab": {
          "base_uri": "https://localhost:8080/",
          "height": 219
        },
        "id": "WAP7qJwyZPwS",
        "outputId": "63f85e9e-bd21-43a2-f875-f2a71bd7ae22"
      },
      "execution_count": 37,
      "outputs": [
        {
          "output_type": "execute_result",
          "data": {
            "text/plain": [
              "<pyspark.sql.session.SparkSession at 0x79cf3062a4a0>"
            ],
            "text/html": [
              "\n",
              "            <div>\n",
              "                <p><b>SparkSession - in-memory</b></p>\n",
              "                \n",
              "        <div>\n",
              "            <p><b>SparkContext</b></p>\n",
              "\n",
              "            <p><a href=\"http://abae0283c056:4050\">Spark UI</a></p>\n",
              "\n",
              "            <dl>\n",
              "              <dt>Version</dt>\n",
              "                <dd><code>v3.5.1</code></dd>\n",
              "              <dt>Master</dt>\n",
              "                <dd><code>local</code></dd>\n",
              "              <dt>AppName</dt>\n",
              "                <dd><code>Colab</code></dd>\n",
              "            </dl>\n",
              "        </div>\n",
              "        \n",
              "            </div>\n",
              "        "
            ]
          },
          "metadata": {},
          "execution_count": 37
        }
      ]
    },
    {
      "cell_type": "code",
      "source": [
        "# load csv\n",
        "df = spark.read.format(\"csv\").load(\"/content/housing.csv\", header=True, inferSchema=True)"
      ],
      "metadata": {
        "id": "ZEoxHkH-aSY4"
      },
      "execution_count": 38,
      "outputs": []
    },
    {
      "cell_type": "code",
      "source": [
        "# Print of the schema\n",
        "\n",
        "df.printSchema()"
      ],
      "metadata": {
        "colab": {
          "base_uri": "https://localhost:8080/"
        },
        "id": "XOCyY6B4bqIi",
        "outputId": "ad996cde-a1d4-4b92-d265-1f25b5c34f7a"
      },
      "execution_count": 39,
      "outputs": [
        {
          "output_type": "stream",
          "name": "stdout",
          "text": [
            "root\n",
            " |-- longitude: double (nullable = true)\n",
            " |-- latitude: double (nullable = true)\n",
            " |-- housing_median_age: double (nullable = true)\n",
            " |-- total_rooms: double (nullable = true)\n",
            " |-- total_bedrooms: double (nullable = true)\n",
            " |-- population: double (nullable = true)\n",
            " |-- households: double (nullable = true)\n",
            " |-- median_income: double (nullable = true)\n",
            " |-- median_house_value: double (nullable = true)\n",
            " |-- ocean_proximity: string (nullable = true)\n",
            "\n"
          ]
        }
      ]
    },
    {
      "cell_type": "code",
      "source": [
        "# print the table\n",
        "df.show(5)"
      ],
      "metadata": {
        "colab": {
          "base_uri": "https://localhost:8080/"
        },
        "id": "zNzNsHX7cL6v",
        "outputId": "bc0358e4-7339-4574-f673-c6f421163d8e"
      },
      "execution_count": 40,
      "outputs": [
        {
          "output_type": "stream",
          "name": "stdout",
          "text": [
            "+---------+--------+------------------+-----------+--------------+----------+----------+-------------+------------------+---------------+\n",
            "|longitude|latitude|housing_median_age|total_rooms|total_bedrooms|population|households|median_income|median_house_value|ocean_proximity|\n",
            "+---------+--------+------------------+-----------+--------------+----------+----------+-------------+------------------+---------------+\n",
            "|  -122.23|   37.88|              41.0|      880.0|         129.0|     322.0|     126.0|       8.3252|          452600.0|       NEAR BAY|\n",
            "|  -122.22|   37.86|              21.0|     7099.0|        1106.0|    2401.0|    1138.0|       8.3014|          358500.0|       NEAR BAY|\n",
            "|  -122.24|   37.85|              52.0|     1467.0|         190.0|     496.0|     177.0|       7.2574|          352100.0|       NEAR BAY|\n",
            "|  -122.25|   37.85|              52.0|     1274.0|         235.0|     558.0|     219.0|       5.6431|          341300.0|       NEAR BAY|\n",
            "|  -122.25|   37.85|              52.0|     1627.0|         280.0|     565.0|     259.0|       3.8462|          342200.0|       NEAR BAY|\n",
            "+---------+--------+------------------+-----------+--------------+----------+----------+-------------+------------------+---------------+\n",
            "only showing top 5 rows\n",
            "\n"
          ]
        }
      ]
    },
    {
      "cell_type": "code",
      "source": [
        "# add new column id\n",
        "from pyspark.sql.functions import monotonically_increasing_id\n",
        "\n",
        "\n",
        "df = df.withColumn('id', monotonically_increasing_id())\n",
        "df = df[['id']+ df.columns[:-1]]"
      ],
      "metadata": {
        "id": "6PBOe8oXeeme"
      },
      "execution_count": 41,
      "outputs": []
    },
    {
      "cell_type": "code",
      "source": [
        "df.show(3)"
      ],
      "metadata": {
        "colab": {
          "base_uri": "https://localhost:8080/"
        },
        "id": "cMjM_7nBflMy",
        "outputId": "a403178b-73cf-4475-cd96-fb34ba730065"
      },
      "execution_count": 42,
      "outputs": [
        {
          "output_type": "stream",
          "name": "stdout",
          "text": [
            "+---+---------+--------+------------------+-----------+--------------+----------+----------+-------------+------------------+---------------+\n",
            "| id|longitude|latitude|housing_median_age|total_rooms|total_bedrooms|population|households|median_income|median_house_value|ocean_proximity|\n",
            "+---+---------+--------+------------------+-----------+--------------+----------+----------+-------------+------------------+---------------+\n",
            "|  0|  -122.23|   37.88|              41.0|      880.0|         129.0|     322.0|     126.0|       8.3252|          452600.0|       NEAR BAY|\n",
            "|  1|  -122.22|   37.86|              21.0|     7099.0|        1106.0|    2401.0|    1138.0|       8.3014|          358500.0|       NEAR BAY|\n",
            "|  2|  -122.24|   37.85|              52.0|     1467.0|         190.0|     496.0|     177.0|       7.2574|          352100.0|       NEAR BAY|\n",
            "+---+---------+--------+------------------+-----------+--------------+----------+----------+-------------+------------------+---------------+\n",
            "only showing top 3 rows\n",
            "\n"
          ]
        }
      ]
    },
    {
      "cell_type": "code",
      "source": [
        "# count the number of rows\n",
        "df.count()"
      ],
      "metadata": {
        "colab": {
          "base_uri": "https://localhost:8080/"
        },
        "id": "G8mEQq72fnL8",
        "outputId": "837ea882-a2a4-4668-c044-88ef43468dda"
      },
      "execution_count": 43,
      "outputs": [
        {
          "output_type": "execute_result",
          "data": {
            "text/plain": [
              "20640"
            ]
          },
          "metadata": {},
          "execution_count": 43
        }
      ]
    },
    {
      "cell_type": "code",
      "source": [
        "# Average total\n",
        "df.select('total_rooms').agg({'total_rooms': 'avg'}).show()"
      ],
      "metadata": {
        "colab": {
          "base_uri": "https://localhost:8080/"
        },
        "id": "9DqkBBR4fzVC",
        "outputId": "f70d1bb6-a6a8-4f83-b9f7-fcf9076b6db1"
      },
      "execution_count": 44,
      "outputs": [
        {
          "output_type": "stream",
          "name": "stdout",
          "text": [
            "+------------------+\n",
            "|  avg(total_rooms)|\n",
            "+------------------+\n",
            "|2635.7630813953488|\n",
            "+------------------+\n",
            "\n"
          ]
        }
      ]
    },
    {
      "cell_type": "code",
      "source": [
        "# Avg of every col\n",
        "from pyspark.sql.functions import mean\n",
        "df.select(*[mean(c) for c in df.columns]).show()"
      ],
      "metadata": {
        "colab": {
          "base_uri": "https://localhost:8080/"
        },
        "id": "8DEm7pO1glCJ",
        "outputId": "b0de63e7-7022-48bf-e8d7-de917fd5a93b"
      },
      "execution_count": 45,
      "outputs": [
        {
          "output_type": "stream",
          "name": "stdout",
          "text": [
            "+-------+-------------------+----------------+-----------------------+------------------+-------------------+------------------+-----------------+------------------+-----------------------+--------------------+\n",
            "|avg(id)|     avg(longitude)|   avg(latitude)|avg(housing_median_age)|  avg(total_rooms)|avg(total_bedrooms)|   avg(population)|  avg(households)|avg(median_income)|avg(median_house_value)|avg(ocean_proximity)|\n",
            "+-------+-------------------+----------------+-----------------------+------------------+-------------------+------------------+-----------------+------------------+-----------------------+--------------------+\n",
            "|10319.5|-119.56970445736148|35.6318614341087|     28.639486434108527|2635.7630813953488|  537.8705525375618|1425.4767441860465|499.5396802325581|3.8706710029070246|     206855.81690891474|                NULL|\n",
            "+-------+-------------------+----------------+-----------------------+------------------+-------------------+------------------+-----------------+------------------+-----------------------+--------------------+\n",
            "\n"
          ]
        }
      ]
    },
    {
      "cell_type": "code",
      "source": [
        "# calculate avg of every column group by ocean_proximity\n",
        "df.groupby('ocean_proximity').agg({col : 'avg' for col in df.columns[3:-1]}).show()"
      ],
      "metadata": {
        "colab": {
          "base_uri": "https://localhost:8080/"
        },
        "id": "gNDC2JO7hU_l",
        "outputId": "c11f1d11-9f3a-45ba-d007-42d848ed7d3d"
      },
      "execution_count": 46,
      "outputs": [
        {
          "output_type": "stream",
          "name": "stdout",
          "text": [
            "+---------------+------------------+------------------+-------------------+------------------+------------------+-----------------------+-----------------------+\n",
            "|ocean_proximity|   avg(households)|   avg(population)|avg(total_bedrooms)|avg(median_income)|  avg(total_rooms)|avg(median_house_value)|avg(housing_median_age)|\n",
            "+---------------+------------------+------------------+-------------------+------------------+------------------+-----------------------+-----------------------+\n",
            "|         ISLAND|             276.6|             668.0|              420.4|2.7444200000000003|            1574.6|               380440.0|                   42.4|\n",
            "|     NEAR OCEAN|501.24454477050415|1354.0086531226486|  538.6156773211568| 4.005784800601957| 2583.700902934537|     249433.97742663656|     29.347253574115875|\n",
            "|       NEAR BAY| 488.6161572052402|1230.3174672489083|  514.1828193832599| 4.172884759825336| 2493.589519650655|     259212.31179039303|      37.73013100436681|\n",
            "|      <1H OCEAN| 517.7449649737302|1520.2904991243433|  546.5391852999778|4.2306819176882655|2628.3435858143607|     240084.28546409807|     29.279225043782837|\n",
            "|         INLAND|477.44756525721266|1391.0462524805373|  533.8816194581281| 3.208996382231716|2717.7427873607085|     124805.39200122119|      24.27186689055106|\n",
            "+---------------+------------------+------------------+-------------------+------------------+------------------+-----------------------+-----------------------+\n",
            "\n"
          ]
        }
      ]
    },
    {
      "cell_type": "code",
      "source": [
        "# squre of total_rooms columns\n",
        "\n",
        "from pyspark.sql.types import FloatType\n",
        "from pyspark.sql.functions import udf\n",
        "\n",
        "def squared(value):\n",
        "  return value * value\n",
        "\n",
        "squared_udf = udf(squared, FloatType())\n",
        "\n",
        "df.withColumn('total_rooms_squared',squared_udf('total_rooms')).show(5)"
      ],
      "metadata": {
        "colab": {
          "base_uri": "https://localhost:8080/"
        },
        "id": "uf7XEMGaiLrC",
        "outputId": "bb7babb9-f5be-4873-c3ac-f280642e69d2"
      },
      "execution_count": 47,
      "outputs": [
        {
          "output_type": "stream",
          "name": "stdout",
          "text": [
            "+---+---------+--------+------------------+-----------+--------------+----------+----------+-------------+------------------+---------------+-------------------+\n",
            "| id|longitude|latitude|housing_median_age|total_rooms|total_bedrooms|population|households|median_income|median_house_value|ocean_proximity|total_rooms_squared|\n",
            "+---+---------+--------+------------------+-----------+--------------+----------+----------+-------------+------------------+---------------+-------------------+\n",
            "|  0|  -122.23|   37.88|              41.0|      880.0|         129.0|     322.0|     126.0|       8.3252|          452600.0|       NEAR BAY|           774400.0|\n",
            "|  1|  -122.22|   37.86|              21.0|     7099.0|        1106.0|    2401.0|    1138.0|       8.3014|          358500.0|       NEAR BAY|          5.03958E7|\n",
            "|  2|  -122.24|   37.85|              52.0|     1467.0|         190.0|     496.0|     177.0|       7.2574|          352100.0|       NEAR BAY|          2152089.0|\n",
            "|  3|  -122.25|   37.85|              52.0|     1274.0|         235.0|     558.0|     219.0|       5.6431|          341300.0|       NEAR BAY|          1623076.0|\n",
            "|  4|  -122.25|   37.85|              52.0|     1627.0|         280.0|     565.0|     259.0|       3.8462|          342200.0|       NEAR BAY|          2647129.0|\n",
            "+---+---------+--------+------------------+-----------+--------------+----------+----------+-------------+------------------+---------------+-------------------+\n",
            "only showing top 5 rows\n",
            "\n"
          ]
        }
      ]
    },
    {
      "cell_type": "code",
      "source": [
        "df.show(5)"
      ],
      "metadata": {
        "colab": {
          "base_uri": "https://localhost:8080/"
        },
        "id": "V6Ieo_1wmBGG",
        "outputId": "c34f889d-32cb-48a5-e925-2db279d42c71"
      },
      "execution_count": 48,
      "outputs": [
        {
          "output_type": "stream",
          "name": "stdout",
          "text": [
            "+---+---------+--------+------------------+-----------+--------------+----------+----------+-------------+------------------+---------------+\n",
            "| id|longitude|latitude|housing_median_age|total_rooms|total_bedrooms|population|households|median_income|median_house_value|ocean_proximity|\n",
            "+---+---------+--------+------------------+-----------+--------------+----------+----------+-------------+------------------+---------------+\n",
            "|  0|  -122.23|   37.88|              41.0|      880.0|         129.0|     322.0|     126.0|       8.3252|          452600.0|       NEAR BAY|\n",
            "|  1|  -122.22|   37.86|              21.0|     7099.0|        1106.0|    2401.0|    1138.0|       8.3014|          358500.0|       NEAR BAY|\n",
            "|  2|  -122.24|   37.85|              52.0|     1467.0|         190.0|     496.0|     177.0|       7.2574|          352100.0|       NEAR BAY|\n",
            "|  3|  -122.25|   37.85|              52.0|     1274.0|         235.0|     558.0|     219.0|       5.6431|          341300.0|       NEAR BAY|\n",
            "|  4|  -122.25|   37.85|              52.0|     1627.0|         280.0|     565.0|     259.0|       3.8462|          342200.0|       NEAR BAY|\n",
            "+---+---------+--------+------------------+-----------+--------------+----------+----------+-------------+------------------+---------------+\n",
            "only showing top 5 rows\n",
            "\n"
          ]
        }
      ]
    },
    {
      "cell_type": "code",
      "source": [
        "# train and test split into 70 30\n",
        "\n",
        "train, test = df.randomSplit([0.7, 0.3])\n",
        "train, test"
      ],
      "metadata": {
        "colab": {
          "base_uri": "https://localhost:8080/"
        },
        "id": "WvvWmhg8mfZx",
        "outputId": "7272d901-f704-4183-8a24-afec08bd3936"
      },
      "execution_count": 49,
      "outputs": [
        {
          "output_type": "execute_result",
          "data": {
            "text/plain": [
              "(DataFrame[id: bigint, longitude: double, latitude: double, housing_median_age: double, total_rooms: double, total_bedrooms: double, population: double, households: double, median_income: double, median_house_value: double, ocean_proximity: string],\n",
              " DataFrame[id: bigint, longitude: double, latitude: double, housing_median_age: double, total_rooms: double, total_bedrooms: double, population: double, households: double, median_income: double, median_house_value: double, ocean_proximity: string])"
            ]
          },
          "metadata": {},
          "execution_count": 49
        }
      ]
    },
    {
      "cell_type": "code",
      "source": [
        "# remove some columns\n",
        "numerical_features_lst = train.columns\n",
        "numerical_features_lst.remove('median_house_value')\n",
        "numerical_features_lst.remove('id')\n",
        "numerical_features_lst.remove('ocean_proximity')\n",
        "numerical_features_lst"
      ],
      "metadata": {
        "colab": {
          "base_uri": "https://localhost:8080/"
        },
        "id": "vu6ZHtgmnTZ4",
        "outputId": "526b08b4-4eca-4f73-c7e7-b867db838521"
      },
      "execution_count": 50,
      "outputs": [
        {
          "output_type": "execute_result",
          "data": {
            "text/plain": [
              "['longitude',\n",
              " 'latitude',\n",
              " 'housing_median_age',\n",
              " 'total_rooms',\n",
              " 'total_bedrooms',\n",
              " 'population',\n",
              " 'households',\n",
              " 'median_income']"
            ]
          },
          "metadata": {},
          "execution_count": 50
        }
      ]
    },
    {
      "cell_type": "code",
      "source": [
        "# imputting missing values\n",
        "\n",
        "from pyspark.ml.feature import Imputer\n",
        "\n",
        "imputer = Imputer(inputCols= numerical_features_lst,\n",
        "                  outputCols= numerical_features_lst)"
      ],
      "metadata": {
        "id": "ENJjtkGfoNlS"
      },
      "execution_count": 51,
      "outputs": []
    },
    {
      "cell_type": "code",
      "source": [
        "imputer = imputer.fit(train)\n",
        "train = imputer.transform(train)\n",
        "test = imputer.transform(test)\n",
        "train.show(3)"
      ],
      "metadata": {
        "colab": {
          "base_uri": "https://localhost:8080/"
        },
        "id": "jPSwVkBTy7Om",
        "outputId": "5709946e-986b-41ab-a30f-ca60b69cf6c8"
      },
      "execution_count": 52,
      "outputs": [
        {
          "output_type": "stream",
          "name": "stdout",
          "text": [
            "+---+---------+--------+------------------+-----------+--------------+----------+----------+-------------+------------------+---------------+\n",
            "| id|longitude|latitude|housing_median_age|total_rooms|total_bedrooms|population|households|median_income|median_house_value|ocean_proximity|\n",
            "+---+---------+--------+------------------+-----------+--------------+----------+----------+-------------+------------------+---------------+\n",
            "|  0|  -122.23|   37.88|              41.0|      880.0|         129.0|     322.0|     126.0|       8.3252|          452600.0|       NEAR BAY|\n",
            "|  1|  -122.22|   37.86|              21.0|     7099.0|        1106.0|    2401.0|    1138.0|       8.3014|          358500.0|       NEAR BAY|\n",
            "|  3|  -122.25|   37.85|              52.0|     1274.0|         235.0|     558.0|     219.0|       5.6431|          341300.0|       NEAR BAY|\n",
            "+---+---------+--------+------------------+-----------+--------------+----------+----------+-------------+------------------+---------------+\n",
            "only showing top 3 rows\n",
            "\n"
          ]
        }
      ]
    },
    {
      "cell_type": "code",
      "source": [
        "from pyspark.ml.feature import VectorAssembler\n",
        "\n",
        "numerical_vector_assembler = VectorAssembler(inputCols=numerical_features_lst,\n",
        "                                             outputCol= 'numerical_feature_vector')\n",
        "train = numerical_vector_assembler.transform(train)\n",
        "test = numerical_vector_assembler.transform(test)\n",
        "train.show(2)"
      ],
      "metadata": {
        "colab": {
          "base_uri": "https://localhost:8080/"
        },
        "id": "MQ0hJPGBzhT9",
        "outputId": "17faa1ab-c539-483d-9750-fedffd875b27"
      },
      "execution_count": 53,
      "outputs": [
        {
          "output_type": "stream",
          "name": "stdout",
          "text": [
            "+---+---------+--------+------------------+-----------+--------------+----------+----------+-------------+------------------+---------------+------------------------+\n",
            "| id|longitude|latitude|housing_median_age|total_rooms|total_bedrooms|population|households|median_income|median_house_value|ocean_proximity|numerical_feature_vector|\n",
            "+---+---------+--------+------------------+-----------+--------------+----------+----------+-------------+------------------+---------------+------------------------+\n",
            "|  0|  -122.23|   37.88|              41.0|      880.0|         129.0|     322.0|     126.0|       8.3252|          452600.0|       NEAR BAY|    [-122.23,37.88,41...|\n",
            "|  1|  -122.22|   37.86|              21.0|     7099.0|        1106.0|    2401.0|    1138.0|       8.3014|          358500.0|       NEAR BAY|    [-122.22,37.86,21...|\n",
            "+---+---------+--------+------------------+-----------+--------------+----------+----------+-------------+------------------+---------------+------------------------+\n",
            "only showing top 2 rows\n",
            "\n"
          ]
        }
      ]
    },
    {
      "cell_type": "code",
      "source": [
        "train.select('numerical_feature_vector').take(2)"
      ],
      "metadata": {
        "colab": {
          "base_uri": "https://localhost:8080/"
        },
        "id": "PwMjApna0nT-",
        "outputId": "84c34975-d6e2-453e-d7e9-262a14d152c9"
      },
      "execution_count": 54,
      "outputs": [
        {
          "output_type": "execute_result",
          "data": {
            "text/plain": [
              "[Row(numerical_feature_vector=DenseVector([-122.23, 37.88, 41.0, 880.0, 129.0, 322.0, 126.0, 8.3252])),\n",
              " Row(numerical_feature_vector=DenseVector([-122.22, 37.86, 21.0, 7099.0, 1106.0, 2401.0, 1138.0, 8.3014]))]"
            ]
          },
          "metadata": {},
          "execution_count": 54
        }
      ]
    },
    {
      "cell_type": "code",
      "source": [
        "# Standarize\n",
        "from pyspark.ml.feature import StandardScaler\n",
        "\n",
        "scaler = StandardScaler(inputCol= 'numerical_feature_vector',\n",
        "                        outputCol= 'scaled_numerical_feature_vector',\n",
        "                        withStd=True , withMean=True)\n",
        "scaler = scaler.fit(train)\n",
        "train = scaler.transform(train)\n",
        "test = scaler.transform(test)"
      ],
      "metadata": {
        "id": "7NJ2YUUs1pwY"
      },
      "execution_count": 55,
      "outputs": []
    },
    {
      "cell_type": "code",
      "source": [
        "train.select('scaled_numerical_feature_vector').take(3)"
      ],
      "metadata": {
        "colab": {
          "base_uri": "https://localhost:8080/"
        },
        "id": "n0IX0MoA2_zw",
        "outputId": "0dfb12d2-1233-48dd-b554-9ec4cc2a522c"
      },
      "execution_count": 56,
      "outputs": [
        {
          "output_type": "execute_result",
          "data": {
            "text/plain": [
              "[Row(scaled_numerical_feature_vector=DenseVector([-1.3257, 1.0424, 0.9828, -0.7951, -0.9604, -0.9529, -0.9646, 2.351])),\n",
              " Row(scaled_numerical_feature_vector=DenseVector([-1.3207, 1.0331, -0.6088, 2.0177, 1.3295, 0.8391, 1.6492, 2.3385])),\n",
              " Row(scaled_numerical_feature_vector=DenseVector([-1.3357, 1.0284, 1.8581, -0.6169, -0.7119, -0.7495, -0.7244, 0.9401]))]"
            ]
          },
          "metadata": {},
          "execution_count": 56
        }
      ]
    },
    {
      "cell_type": "code",
      "source": [
        "# change  ocean_proximity categorical into numerical\n",
        "from pyspark.ml.feature import StringIndexer\n",
        "\n",
        "indexer = StringIndexer(inputCol='ocean_proximity',\n",
        "                         outputCol='ocean_category_index')\n",
        "indexer = indexer.fit(train)\n",
        "train = indexer.transform(train)\n",
        "test = indexer.transform(test)"
      ],
      "metadata": {
        "id": "cUf9MxKW3C3C"
      },
      "execution_count": 57,
      "outputs": []
    },
    {
      "cell_type": "code",
      "source": [
        "train.select('ocean_category_index').take(3)"
      ],
      "metadata": {
        "colab": {
          "base_uri": "https://localhost:8080/"
        },
        "id": "TqFd3qFb4St2",
        "outputId": "880e8d18-fded-4a18-d042-61bd6e34dc5a"
      },
      "execution_count": 58,
      "outputs": [
        {
          "output_type": "execute_result",
          "data": {
            "text/plain": [
              "[Row(ocean_category_index=3.0),\n",
              " Row(ocean_category_index=3.0),\n",
              " Row(ocean_category_index=3.0)]"
            ]
          },
          "metadata": {},
          "execution_count": 58
        }
      ]
    },
    {
      "cell_type": "code",
      "source": [
        "set(train.select('ocean_category_index').collect())"
      ],
      "metadata": {
        "colab": {
          "base_uri": "https://localhost:8080/"
        },
        "id": "2ZPW35xM4bES",
        "outputId": "286154c5-a070-4dde-b1eb-711d4e390fd3"
      },
      "execution_count": 59,
      "outputs": [
        {
          "output_type": "execute_result",
          "data": {
            "text/plain": [
              "{Row(ocean_category_index=0.0),\n",
              " Row(ocean_category_index=1.0),\n",
              " Row(ocean_category_index=2.0),\n",
              " Row(ocean_category_index=3.0),\n",
              " Row(ocean_category_index=4.0)}"
            ]
          },
          "metadata": {},
          "execution_count": 59
        }
      ]
    },
    {
      "cell_type": "code",
      "source": [
        "# one hot encoder for ocean category\n",
        "from pyspark.ml.feature import OneHotEncoder\n",
        "\n",
        "one_hot_encoder = OneHotEncoder(inputCol='ocean_category_index',\n",
        "                                outputCol='ocean_category_one_hot_label')\n",
        "one_hot_encoder =one_hot_encoder.fit(train)\n",
        "train = one_hot_encoder.transform(train)\n",
        "test = one_hot_encoder.transform(test)\n",
        "\n",
        "train.show(3)"
      ],
      "metadata": {
        "colab": {
          "base_uri": "https://localhost:8080/"
        },
        "id": "8dkk_v_W-118",
        "outputId": "46871248-0a05-41d3-937c-fc0ce470012a"
      },
      "execution_count": 60,
      "outputs": [
        {
          "output_type": "stream",
          "name": "stdout",
          "text": [
            "+---+---------+--------+------------------+-----------+--------------+----------+----------+-------------+------------------+---------------+------------------------+-------------------------------+--------------------+----------------------------+\n",
            "| id|longitude|latitude|housing_median_age|total_rooms|total_bedrooms|population|households|median_income|median_house_value|ocean_proximity|numerical_feature_vector|scaled_numerical_feature_vector|ocean_category_index|ocean_category_one_hot_label|\n",
            "+---+---------+--------+------------------+-----------+--------------+----------+----------+-------------+------------------+---------------+------------------------+-------------------------------+--------------------+----------------------------+\n",
            "|  0|  -122.23|   37.88|              41.0|      880.0|         129.0|     322.0|     126.0|       8.3252|          452600.0|       NEAR BAY|    [-122.23,37.88,41...|           [-1.3257292004562...|                 3.0|               (4,[3],[1.0])|\n",
            "|  1|  -122.22|   37.86|              21.0|     7099.0|        1106.0|    2401.0|    1138.0|       8.3014|          358500.0|       NEAR BAY|    [-122.22,37.86,21...|           [-1.3207408091151...|                 3.0|               (4,[3],[1.0])|\n",
            "|  3|  -122.25|   37.85|              52.0|     1274.0|         235.0|     558.0|     219.0|       5.6431|          341300.0|       NEAR BAY|    [-122.25,37.85,52...|           [-1.3357059831385...|                 3.0|               (4,[3],[1.0])|\n",
            "+---+---------+--------+------------------+-----------+--------------+----------+----------+-------------+------------------+---------------+------------------------+-------------------------------+--------------------+----------------------------+\n",
            "only showing top 3 rows\n",
            "\n"
          ]
        }
      ]
    },
    {
      "cell_type": "code",
      "source": [
        "# combine scaled_vector_col and ocean_category_one_hot_label using assembler\n",
        "\n",
        "assembler = VectorAssembler(inputCols=['scaled_numerical_feature_vector', 'ocean_category_one_hot_label'],\n",
        "                            outputCol= 'final_feature_vector')\n",
        "\n",
        "#assembler = assembler.fit(train)\n",
        "\n",
        "train = assembler.transform(train)\n",
        "test = assembler.transform(test)\n",
        "\n",
        "train.show(3)"
      ],
      "metadata": {
        "colab": {
          "base_uri": "https://localhost:8080/"
        },
        "id": "SoG_c5E8_-lE",
        "outputId": "e36a6863-3a8d-40ad-eb2f-d82725dfa659"
      },
      "execution_count": 61,
      "outputs": [
        {
          "output_type": "stream",
          "name": "stdout",
          "text": [
            "+---+---------+--------+------------------+-----------+--------------+----------+----------+-------------+------------------+---------------+------------------------+-------------------------------+--------------------+----------------------------+--------------------+\n",
            "| id|longitude|latitude|housing_median_age|total_rooms|total_bedrooms|population|households|median_income|median_house_value|ocean_proximity|numerical_feature_vector|scaled_numerical_feature_vector|ocean_category_index|ocean_category_one_hot_label|final_feature_vector|\n",
            "+---+---------+--------+------------------+-----------+--------------+----------+----------+-------------+------------------+---------------+------------------------+-------------------------------+--------------------+----------------------------+--------------------+\n",
            "|  0|  -122.23|   37.88|              41.0|      880.0|         129.0|     322.0|     126.0|       8.3252|          452600.0|       NEAR BAY|    [-122.23,37.88,41...|           [-1.3257292004562...|                 3.0|               (4,[3],[1.0])|[-1.3257292004562...|\n",
            "|  1|  -122.22|   37.86|              21.0|     7099.0|        1106.0|    2401.0|    1138.0|       8.3014|          358500.0|       NEAR BAY|    [-122.22,37.86,21...|           [-1.3207408091151...|                 3.0|               (4,[3],[1.0])|[-1.3207408091151...|\n",
            "|  3|  -122.25|   37.85|              52.0|     1274.0|         235.0|     558.0|     219.0|       5.6431|          341300.0|       NEAR BAY|    [-122.25,37.85,52...|           [-1.3357059831385...|                 3.0|               (4,[3],[1.0])|[-1.3357059831385...|\n",
            "+---+---------+--------+------------------+-----------+--------------+----------+----------+-------------+------------------+---------------+------------------------+-------------------------------+--------------------+----------------------------+--------------------+\n",
            "only showing top 3 rows\n",
            "\n"
          ]
        }
      ]
    },
    {
      "cell_type": "code",
      "source": [
        "train.select('final_feature_vector').take(3)"
      ],
      "metadata": {
        "colab": {
          "base_uri": "https://localhost:8080/"
        },
        "id": "XY4CjWb5CpAp",
        "outputId": "d63e1021-842c-43f9-caab-0af7720bb838"
      },
      "execution_count": 62,
      "outputs": [
        {
          "output_type": "execute_result",
          "data": {
            "text/plain": [
              "[Row(final_feature_vector=DenseVector([-1.3257, 1.0424, 0.9828, -0.7951, -0.9604, -0.9529, -0.9646, 2.351, 0.0, 0.0, 0.0, 1.0])),\n",
              " Row(final_feature_vector=DenseVector([-1.3207, 1.0331, -0.6088, 2.0177, 1.3295, 0.8391, 1.6492, 2.3385, 0.0, 0.0, 0.0, 1.0])),\n",
              " Row(final_feature_vector=DenseVector([-1.3357, 1.0284, 1.8581, -0.6169, -0.7119, -0.7495, -0.7244, 0.9401, 0.0, 0.0, 0.0, 1.0]))]"
            ]
          },
          "metadata": {},
          "execution_count": 62
        }
      ]
    },
    {
      "cell_type": "code",
      "source": [
        "# Applying Linear Regression Algorithm\n",
        "from pyspark.ml.regression import LinearRegression\n",
        "\n",
        "lr = LinearRegression(featuresCol='final_feature_vector',\n",
        "                      labelCol = 'median_house_value' )\n",
        "lr"
      ],
      "metadata": {
        "colab": {
          "base_uri": "https://localhost:8080/"
        },
        "id": "QoiAZRBaC0O3",
        "outputId": "f4ac5e53-0788-46a4-9781-eae2f670b3ba"
      },
      "execution_count": 63,
      "outputs": [
        {
          "output_type": "execute_result",
          "data": {
            "text/plain": [
              "LinearRegression_3daa942a4fe1"
            ]
          },
          "metadata": {},
          "execution_count": 63
        }
      ]
    },
    {
      "cell_type": "code",
      "source": [
        "lr = lr.fit(train)\n",
        "lr"
      ],
      "metadata": {
        "colab": {
          "base_uri": "https://localhost:8080/"
        },
        "id": "c2lgu1rgDaz0",
        "outputId": "bd6a3ce4-7de0-4015-c531-f44bca2fe321"
      },
      "execution_count": 64,
      "outputs": [
        {
          "output_type": "execute_result",
          "data": {
            "text/plain": [
              "LinearRegressionModel: uid=LinearRegression_3daa942a4fe1, numFeatures=12"
            ]
          },
          "metadata": {},
          "execution_count": 64
        }
      ]
    },
    {
      "cell_type": "code",
      "source": [
        "pred_train_df = lr.transform(train).withColumnRenamed('prediction','predicted_median_house_value')\n",
        "pred_train_df.show(5)"
      ],
      "metadata": {
        "colab": {
          "base_uri": "https://localhost:8080/"
        },
        "id": "xVWJqVykDnJM",
        "outputId": "70909495-4ed8-4291-8baa-c97c54edaa60"
      },
      "execution_count": 65,
      "outputs": [
        {
          "output_type": "stream",
          "name": "stdout",
          "text": [
            "+---+---------+--------+------------------+-----------+--------------+----------+----------+-------------+------------------+---------------+------------------------+-------------------------------+--------------------+----------------------------+--------------------+----------------------------+\n",
            "| id|longitude|latitude|housing_median_age|total_rooms|total_bedrooms|population|households|median_income|median_house_value|ocean_proximity|numerical_feature_vector|scaled_numerical_feature_vector|ocean_category_index|ocean_category_one_hot_label|final_feature_vector|predicted_median_house_value|\n",
            "+---+---------+--------+------------------+-----------+--------------+----------+----------+-------------+------------------+---------------+------------------------+-------------------------------+--------------------+----------------------------+--------------------+----------------------------+\n",
            "|  0|  -122.23|   37.88|              41.0|      880.0|         129.0|     322.0|     126.0|       8.3252|          452600.0|       NEAR BAY|    [-122.23,37.88,41...|           [-1.3257292004562...|                 3.0|               (4,[3],[1.0])|[-1.3257292004562...|          406912.55429878365|\n",
            "|  1|  -122.22|   37.86|              21.0|     7099.0|        1106.0|    2401.0|    1138.0|       8.3014|          358500.0|       NEAR BAY|    [-122.22,37.86,21...|           [-1.3207408091151...|                 3.0|               (4,[3],[1.0])|[-1.3207408091151...|          423088.42471279175|\n",
            "|  3|  -122.25|   37.85|              52.0|     1274.0|         235.0|     558.0|     219.0|       5.6431|          341300.0|       NEAR BAY|    [-122.25,37.85,52...|           [-1.3357059831385...|                 3.0|               (4,[3],[1.0])|[-1.3357059831385...|           320157.4620021078|\n",
            "|  5|  -122.25|   37.85|              52.0|      919.0|         213.0|     413.0|     193.0|       4.0368|          269700.0|       NEAR BAY|    [-122.25,37.85,52...|           [-1.3357059831385...|                 3.0|               (4,[3],[1.0])|[-1.3357059831385...|           262139.5908047893|\n",
            "|  6|  -122.25|   37.84|              52.0|     2535.0|         489.0|    1094.0|     514.0|       3.6591|          299200.0|       NEAR BAY|    [-122.25,37.84,52...|           [-1.3357059831385...|                 3.0|               (4,[3],[1.0])|[-1.3357059831385...|          258251.34359994097|\n",
            "+---+---------+--------+------------------+-----------+--------------+----------+----------+-------------+------------------+---------------+------------------------+-------------------------------+--------------------+----------------------------+--------------------+----------------------------+\n",
            "only showing top 5 rows\n",
            "\n"
          ]
        }
      ]
    },
    {
      "cell_type": "code",
      "source": [
        "pred_test_df = lr.transform(test).withColumnRenamed('prediction','predicted_median_house_value')\n",
        "pred_test_df.show(5)"
      ],
      "metadata": {
        "colab": {
          "base_uri": "https://localhost:8080/"
        },
        "id": "K3-7hv9mEYP3",
        "outputId": "108decdf-eb1d-4dbc-e567-dbe82dac5b17"
      },
      "execution_count": 66,
      "outputs": [
        {
          "output_type": "stream",
          "name": "stdout",
          "text": [
            "+---+---------+--------+------------------+-----------+--------------+----------+----------+-------------+------------------+---------------+------------------------+-------------------------------+--------------------+----------------------------+--------------------+----------------------------+\n",
            "| id|longitude|latitude|housing_median_age|total_rooms|total_bedrooms|population|households|median_income|median_house_value|ocean_proximity|numerical_feature_vector|scaled_numerical_feature_vector|ocean_category_index|ocean_category_one_hot_label|final_feature_vector|predicted_median_house_value|\n",
            "+---+---------+--------+------------------+-----------+--------------+----------+----------+-------------+------------------+---------------+------------------------+-------------------------------+--------------------+----------------------------+--------------------+----------------------------+\n",
            "|  2|  -122.24|   37.85|              52.0|     1467.0|         190.0|     496.0|     177.0|       7.2574|          352100.0|       NEAR BAY|    [-122.24,37.85,52...|           [-1.3307175917974...|                 3.0|               (4,[3],[1.0])|[-1.3307175917974...|          377094.10971291416|\n",
            "|  4|  -122.25|   37.85|              52.0|     1627.0|         280.0|     565.0|     259.0|       3.8462|          342200.0|       NEAR BAY|    [-122.25,37.85,52...|           [-1.3357059831385...|                 3.0|               (4,[3],[1.0])|[-1.3357059831385...|          255630.27344916924|\n",
            "|  7|  -122.25|   37.84|              52.0|     3104.0|         687.0|    1157.0|     647.0|         3.12|          241400.0|       NEAR BAY|    [-122.25,37.84,52...|           [-1.3357059831385...|                 3.0|               (4,[3],[1.0])|[-1.3357059831385...|           255556.0323941933|\n",
            "|  8|  -122.26|   37.84|              42.0|     2555.0|         665.0|    1206.0|     595.0|       2.0804|          226700.0|       NEAR BAY|    [-122.26,37.84,42...|           [-1.3406943744797...|                 3.0|               (4,[3],[1.0])|[-1.3406943744797...|          200986.78852599987|\n",
            "|  9|  -122.25|   37.84|              52.0|     3549.0|         707.0|    1551.0|     714.0|       3.6912|          261100.0|       NEAR BAY|    [-122.25,37.84,52...|           [-1.3357059831385...|                 3.0|               (4,[3],[1.0])|[-1.3357059831385...|           267497.7456811214|\n",
            "+---+---------+--------+------------------+-----------+--------------+----------+----------+-------------+------------------+---------------+------------------------+-------------------------------+--------------------+----------------------------+--------------------+----------------------------+\n",
            "only showing top 5 rows\n",
            "\n"
          ]
        }
      ]
    },
    {
      "cell_type": "code",
      "source": [
        "# convert into Dataframe\n",
        "pred_test_pd_df = pred_test_df.toPandas()\n",
        "pred_test_pd_df.head(2)"
      ],
      "metadata": {
        "colab": {
          "base_uri": "https://localhost:8080/",
          "height": 201
        },
        "id": "66vwVIcqE_2h",
        "outputId": "b20f2452-9cd4-4e83-f72a-fa0914fddc64"
      },
      "execution_count": 67,
      "outputs": [
        {
          "output_type": "execute_result",
          "data": {
            "text/plain": [
              "   id  longitude  latitude  housing_median_age  total_rooms  total_bedrooms  \\\n",
              "0   2    -122.24     37.85                52.0       1467.0           190.0   \n",
              "1   4    -122.25     37.85                52.0       1627.0           280.0   \n",
              "\n",
              "   population  households  median_income  median_house_value ocean_proximity  \\\n",
              "0       496.0       177.0         7.2574            352100.0        NEAR BAY   \n",
              "1       565.0       259.0         3.8462            342200.0        NEAR BAY   \n",
              "\n",
              "                            numerical_feature_vector  \\\n",
              "0  [-122.24, 37.85, 52.0, 1467.0, 190.0, 496.0, 1...   \n",
              "1  [-122.25, 37.85, 52.0, 1627.0, 280.0, 565.0, 2...   \n",
              "\n",
              "                     scaled_numerical_feature_vector  ocean_category_index  \\\n",
              "0  [-1.3307175917974219, 1.028421622267114, 1.858...                   3.0   \n",
              "1  [-1.335705983138561, 1.028421622267114, 1.8580...                   3.0   \n",
              "\n",
              "  ocean_category_one_hot_label  \\\n",
              "0         (0.0, 0.0, 0.0, 1.0)   \n",
              "1         (0.0, 0.0, 0.0, 1.0)   \n",
              "\n",
              "                                final_feature_vector  \\\n",
              "0  [-1.3307175917974219, 1.028421622267114, 1.858...   \n",
              "1  [-1.335705983138561, 1.028421622267114, 1.8580...   \n",
              "\n",
              "   predicted_median_house_value  \n",
              "0                 377094.109713  \n",
              "1                 255630.273449  "
            ],
            "text/html": [
              "\n",
              "  <div id=\"df-d92580e1-e913-46dd-b1b4-178851799956\" class=\"colab-df-container\">\n",
              "    <div>\n",
              "<style scoped>\n",
              "    .dataframe tbody tr th:only-of-type {\n",
              "        vertical-align: middle;\n",
              "    }\n",
              "\n",
              "    .dataframe tbody tr th {\n",
              "        vertical-align: top;\n",
              "    }\n",
              "\n",
              "    .dataframe thead th {\n",
              "        text-align: right;\n",
              "    }\n",
              "</style>\n",
              "<table border=\"1\" class=\"dataframe\">\n",
              "  <thead>\n",
              "    <tr style=\"text-align: right;\">\n",
              "      <th></th>\n",
              "      <th>id</th>\n",
              "      <th>longitude</th>\n",
              "      <th>latitude</th>\n",
              "      <th>housing_median_age</th>\n",
              "      <th>total_rooms</th>\n",
              "      <th>total_bedrooms</th>\n",
              "      <th>population</th>\n",
              "      <th>households</th>\n",
              "      <th>median_income</th>\n",
              "      <th>median_house_value</th>\n",
              "      <th>ocean_proximity</th>\n",
              "      <th>numerical_feature_vector</th>\n",
              "      <th>scaled_numerical_feature_vector</th>\n",
              "      <th>ocean_category_index</th>\n",
              "      <th>ocean_category_one_hot_label</th>\n",
              "      <th>final_feature_vector</th>\n",
              "      <th>predicted_median_house_value</th>\n",
              "    </tr>\n",
              "  </thead>\n",
              "  <tbody>\n",
              "    <tr>\n",
              "      <th>0</th>\n",
              "      <td>2</td>\n",
              "      <td>-122.24</td>\n",
              "      <td>37.85</td>\n",
              "      <td>52.0</td>\n",
              "      <td>1467.0</td>\n",
              "      <td>190.0</td>\n",
              "      <td>496.0</td>\n",
              "      <td>177.0</td>\n",
              "      <td>7.2574</td>\n",
              "      <td>352100.0</td>\n",
              "      <td>NEAR BAY</td>\n",
              "      <td>[-122.24, 37.85, 52.0, 1467.0, 190.0, 496.0, 1...</td>\n",
              "      <td>[-1.3307175917974219, 1.028421622267114, 1.858...</td>\n",
              "      <td>3.0</td>\n",
              "      <td>(0.0, 0.0, 0.0, 1.0)</td>\n",
              "      <td>[-1.3307175917974219, 1.028421622267114, 1.858...</td>\n",
              "      <td>377094.109713</td>\n",
              "    </tr>\n",
              "    <tr>\n",
              "      <th>1</th>\n",
              "      <td>4</td>\n",
              "      <td>-122.25</td>\n",
              "      <td>37.85</td>\n",
              "      <td>52.0</td>\n",
              "      <td>1627.0</td>\n",
              "      <td>280.0</td>\n",
              "      <td>565.0</td>\n",
              "      <td>259.0</td>\n",
              "      <td>3.8462</td>\n",
              "      <td>342200.0</td>\n",
              "      <td>NEAR BAY</td>\n",
              "      <td>[-122.25, 37.85, 52.0, 1627.0, 280.0, 565.0, 2...</td>\n",
              "      <td>[-1.335705983138561, 1.028421622267114, 1.8580...</td>\n",
              "      <td>3.0</td>\n",
              "      <td>(0.0, 0.0, 0.0, 1.0)</td>\n",
              "      <td>[-1.335705983138561, 1.028421622267114, 1.8580...</td>\n",
              "      <td>255630.273449</td>\n",
              "    </tr>\n",
              "  </tbody>\n",
              "</table>\n",
              "</div>\n",
              "    <div class=\"colab-df-buttons\">\n",
              "\n",
              "  <div class=\"colab-df-container\">\n",
              "    <button class=\"colab-df-convert\" onclick=\"convertToInteractive('df-d92580e1-e913-46dd-b1b4-178851799956')\"\n",
              "            title=\"Convert this dataframe to an interactive table.\"\n",
              "            style=\"display:none;\">\n",
              "\n",
              "  <svg xmlns=\"http://www.w3.org/2000/svg\" height=\"24px\" viewBox=\"0 -960 960 960\">\n",
              "    <path d=\"M120-120v-720h720v720H120Zm60-500h600v-160H180v160Zm220 220h160v-160H400v160Zm0 220h160v-160H400v160ZM180-400h160v-160H180v160Zm440 0h160v-160H620v160ZM180-180h160v-160H180v160Zm440 0h160v-160H620v160Z\"/>\n",
              "  </svg>\n",
              "    </button>\n",
              "\n",
              "  <style>\n",
              "    .colab-df-container {\n",
              "      display:flex;\n",
              "      gap: 12px;\n",
              "    }\n",
              "\n",
              "    .colab-df-convert {\n",
              "      background-color: #E8F0FE;\n",
              "      border: none;\n",
              "      border-radius: 50%;\n",
              "      cursor: pointer;\n",
              "      display: none;\n",
              "      fill: #1967D2;\n",
              "      height: 32px;\n",
              "      padding: 0 0 0 0;\n",
              "      width: 32px;\n",
              "    }\n",
              "\n",
              "    .colab-df-convert:hover {\n",
              "      background-color: #E2EBFA;\n",
              "      box-shadow: 0px 1px 2px rgba(60, 64, 67, 0.3), 0px 1px 3px 1px rgba(60, 64, 67, 0.15);\n",
              "      fill: #174EA6;\n",
              "    }\n",
              "\n",
              "    .colab-df-buttons div {\n",
              "      margin-bottom: 4px;\n",
              "    }\n",
              "\n",
              "    [theme=dark] .colab-df-convert {\n",
              "      background-color: #3B4455;\n",
              "      fill: #D2E3FC;\n",
              "    }\n",
              "\n",
              "    [theme=dark] .colab-df-convert:hover {\n",
              "      background-color: #434B5C;\n",
              "      box-shadow: 0px 1px 3px 1px rgba(0, 0, 0, 0.15);\n",
              "      filter: drop-shadow(0px 1px 2px rgba(0, 0, 0, 0.3));\n",
              "      fill: #FFFFFF;\n",
              "    }\n",
              "  </style>\n",
              "\n",
              "    <script>\n",
              "      const buttonEl =\n",
              "        document.querySelector('#df-d92580e1-e913-46dd-b1b4-178851799956 button.colab-df-convert');\n",
              "      buttonEl.style.display =\n",
              "        google.colab.kernel.accessAllowed ? 'block' : 'none';\n",
              "\n",
              "      async function convertToInteractive(key) {\n",
              "        const element = document.querySelector('#df-d92580e1-e913-46dd-b1b4-178851799956');\n",
              "        const dataTable =\n",
              "          await google.colab.kernel.invokeFunction('convertToInteractive',\n",
              "                                                    [key], {});\n",
              "        if (!dataTable) return;\n",
              "\n",
              "        const docLinkHtml = 'Like what you see? Visit the ' +\n",
              "          '<a target=\"_blank\" href=https://colab.research.google.com/notebooks/data_table.ipynb>data table notebook</a>'\n",
              "          + ' to learn more about interactive tables.';\n",
              "        element.innerHTML = '';\n",
              "        dataTable['output_type'] = 'display_data';\n",
              "        await google.colab.output.renderOutput(dataTable, element);\n",
              "        const docLink = document.createElement('div');\n",
              "        docLink.innerHTML = docLinkHtml;\n",
              "        element.appendChild(docLink);\n",
              "      }\n",
              "    </script>\n",
              "  </div>\n",
              "\n",
              "\n",
              "<div id=\"df-7d0fc7a1-001d-428e-bc00-0dfd777c2ac1\">\n",
              "  <button class=\"colab-df-quickchart\" onclick=\"quickchart('df-7d0fc7a1-001d-428e-bc00-0dfd777c2ac1')\"\n",
              "            title=\"Suggest charts\"\n",
              "            style=\"display:none;\">\n",
              "\n",
              "<svg xmlns=\"http://www.w3.org/2000/svg\" height=\"24px\"viewBox=\"0 0 24 24\"\n",
              "     width=\"24px\">\n",
              "    <g>\n",
              "        <path d=\"M19 3H5c-1.1 0-2 .9-2 2v14c0 1.1.9 2 2 2h14c1.1 0 2-.9 2-2V5c0-1.1-.9-2-2-2zM9 17H7v-7h2v7zm4 0h-2V7h2v10zm4 0h-2v-4h2v4z\"/>\n",
              "    </g>\n",
              "</svg>\n",
              "  </button>\n",
              "\n",
              "<style>\n",
              "  .colab-df-quickchart {\n",
              "      --bg-color: #E8F0FE;\n",
              "      --fill-color: #1967D2;\n",
              "      --hover-bg-color: #E2EBFA;\n",
              "      --hover-fill-color: #174EA6;\n",
              "      --disabled-fill-color: #AAA;\n",
              "      --disabled-bg-color: #DDD;\n",
              "  }\n",
              "\n",
              "  [theme=dark] .colab-df-quickchart {\n",
              "      --bg-color: #3B4455;\n",
              "      --fill-color: #D2E3FC;\n",
              "      --hover-bg-color: #434B5C;\n",
              "      --hover-fill-color: #FFFFFF;\n",
              "      --disabled-bg-color: #3B4455;\n",
              "      --disabled-fill-color: #666;\n",
              "  }\n",
              "\n",
              "  .colab-df-quickchart {\n",
              "    background-color: var(--bg-color);\n",
              "    border: none;\n",
              "    border-radius: 50%;\n",
              "    cursor: pointer;\n",
              "    display: none;\n",
              "    fill: var(--fill-color);\n",
              "    height: 32px;\n",
              "    padding: 0;\n",
              "    width: 32px;\n",
              "  }\n",
              "\n",
              "  .colab-df-quickchart:hover {\n",
              "    background-color: var(--hover-bg-color);\n",
              "    box-shadow: 0 1px 2px rgba(60, 64, 67, 0.3), 0 1px 3px 1px rgba(60, 64, 67, 0.15);\n",
              "    fill: var(--button-hover-fill-color);\n",
              "  }\n",
              "\n",
              "  .colab-df-quickchart-complete:disabled,\n",
              "  .colab-df-quickchart-complete:disabled:hover {\n",
              "    background-color: var(--disabled-bg-color);\n",
              "    fill: var(--disabled-fill-color);\n",
              "    box-shadow: none;\n",
              "  }\n",
              "\n",
              "  .colab-df-spinner {\n",
              "    border: 2px solid var(--fill-color);\n",
              "    border-color: transparent;\n",
              "    border-bottom-color: var(--fill-color);\n",
              "    animation:\n",
              "      spin 1s steps(1) infinite;\n",
              "  }\n",
              "\n",
              "  @keyframes spin {\n",
              "    0% {\n",
              "      border-color: transparent;\n",
              "      border-bottom-color: var(--fill-color);\n",
              "      border-left-color: var(--fill-color);\n",
              "    }\n",
              "    20% {\n",
              "      border-color: transparent;\n",
              "      border-left-color: var(--fill-color);\n",
              "      border-top-color: var(--fill-color);\n",
              "    }\n",
              "    30% {\n",
              "      border-color: transparent;\n",
              "      border-left-color: var(--fill-color);\n",
              "      border-top-color: var(--fill-color);\n",
              "      border-right-color: var(--fill-color);\n",
              "    }\n",
              "    40% {\n",
              "      border-color: transparent;\n",
              "      border-right-color: var(--fill-color);\n",
              "      border-top-color: var(--fill-color);\n",
              "    }\n",
              "    60% {\n",
              "      border-color: transparent;\n",
              "      border-right-color: var(--fill-color);\n",
              "    }\n",
              "    80% {\n",
              "      border-color: transparent;\n",
              "      border-right-color: var(--fill-color);\n",
              "      border-bottom-color: var(--fill-color);\n",
              "    }\n",
              "    90% {\n",
              "      border-color: transparent;\n",
              "      border-bottom-color: var(--fill-color);\n",
              "    }\n",
              "  }\n",
              "</style>\n",
              "\n",
              "  <script>\n",
              "    async function quickchart(key) {\n",
              "      const quickchartButtonEl =\n",
              "        document.querySelector('#' + key + ' button');\n",
              "      quickchartButtonEl.disabled = true;  // To prevent multiple clicks.\n",
              "      quickchartButtonEl.classList.add('colab-df-spinner');\n",
              "      try {\n",
              "        const charts = await google.colab.kernel.invokeFunction(\n",
              "            'suggestCharts', [key], {});\n",
              "      } catch (error) {\n",
              "        console.error('Error during call to suggestCharts:', error);\n",
              "      }\n",
              "      quickchartButtonEl.classList.remove('colab-df-spinner');\n",
              "      quickchartButtonEl.classList.add('colab-df-quickchart-complete');\n",
              "    }\n",
              "    (() => {\n",
              "      let quickchartButtonEl =\n",
              "        document.querySelector('#df-7d0fc7a1-001d-428e-bc00-0dfd777c2ac1 button');\n",
              "      quickchartButtonEl.style.display =\n",
              "        google.colab.kernel.accessAllowed ? 'block' : 'none';\n",
              "    })();\n",
              "  </script>\n",
              "</div>\n",
              "    </div>\n",
              "  </div>\n"
            ],
            "application/vnd.google.colaboratory.intrinsic+json": {
              "type": "dataframe",
              "variable_name": "pred_test_pd_df",
              "summary": "{\n  \"name\": \"pred_test_pd_df\",\n  \"rows\": 6188,\n  \"fields\": [\n    {\n      \"column\": \"id\",\n      \"properties\": {\n        \"dtype\": \"number\",\n        \"std\": 5967,\n        \"min\": 2,\n        \"max\": 20638,\n        \"num_unique_values\": 6188,\n        \"samples\": [\n          3337,\n          1511,\n          10376\n        ],\n        \"semantic_type\": \"\",\n        \"description\": \"\"\n      }\n    },\n    {\n      \"column\": \"longitude\",\n      \"properties\": {\n        \"dtype\": \"number\",\n        \"std\": 2.001055609956746,\n        \"min\": -124.3,\n        \"max\": -114.31,\n        \"num_unique_values\": 699,\n        \"samples\": [\n          -119.55,\n          -117.25,\n          -122.52\n        ],\n        \"semantic_type\": \"\",\n        \"description\": \"\"\n      }\n    },\n    {\n      \"column\": \"latitude\",\n      \"properties\": {\n        \"dtype\": \"number\",\n        \"std\": 2.1176659784223073,\n        \"min\": 32.55,\n        \"max\": 41.95,\n        \"num_unique_values\": 699,\n        \"samples\": [\n          36.57,\n          38.78,\n          36.98\n        ],\n        \"semantic_type\": \"\",\n        \"description\": \"\"\n      }\n    },\n    {\n      \"column\": \"housing_median_age\",\n      \"properties\": {\n        \"dtype\": \"number\",\n        \"std\": 12.630759525032412,\n        \"min\": 2.0,\n        \"max\": 52.0,\n        \"num_unique_values\": 51,\n        \"samples\": [\n          13.0,\n          15.0,\n          9.0\n        ],\n        \"semantic_type\": \"\",\n        \"description\": \"\"\n      }\n    },\n    {\n      \"column\": \"total_rooms\",\n      \"properties\": {\n        \"dtype\": \"number\",\n        \"std\": 2111.739040341038,\n        \"min\": 12.0,\n        \"max\": 37937.0,\n        \"num_unique_values\": 3494,\n        \"samples\": [\n          2627.0,\n          2900.0,\n          3172.0\n        ],\n        \"semantic_type\": \"\",\n        \"description\": \"\"\n      }\n    },\n    {\n      \"column\": \"total_bedrooms\",\n      \"properties\": {\n        \"dtype\": \"number\",\n        \"std\": 401.49715136409696,\n        \"min\": 4.0,\n        \"max\": 5471.0,\n        \"num_unique_values\": 1354,\n        \"samples\": [\n          502.0,\n          693.0,\n          11.0\n        ],\n        \"semantic_type\": \"\",\n        \"description\": \"\"\n      }\n    },\n    {\n      \"column\": \"population\",\n      \"properties\": {\n        \"dtype\": \"number\",\n        \"std\": 1065.1149323309278,\n        \"min\": 8.0,\n        \"max\": 16122.0,\n        \"num_unique_values\": 2564,\n        \"samples\": [\n          1951.0,\n          4274.0,\n          1679.0\n        ],\n        \"semantic_type\": \"\",\n        \"description\": \"\"\n      }\n    },\n    {\n      \"column\": \"households\",\n      \"properties\": {\n        \"dtype\": \"number\",\n        \"std\": 370.79223622392976,\n        \"min\": 4.0,\n        \"max\": 5189.0,\n        \"num_unique_values\": 1292,\n        \"samples\": [\n          994.0,\n          38.0,\n          318.0\n        ],\n        \"semantic_type\": \"\",\n        \"description\": \"\"\n      }\n    },\n    {\n      \"column\": \"median_income\",\n      \"properties\": {\n        \"dtype\": \"number\",\n        \"std\": 1.896712521411662,\n        \"min\": 0.4999,\n        \"max\": 15.0001,\n        \"num_unique_values\": 4948,\n        \"samples\": [\n          1.5817,\n          4.0208,\n          2.77\n        ],\n        \"semantic_type\": \"\",\n        \"description\": \"\"\n      }\n    },\n    {\n      \"column\": \"median_house_value\",\n      \"properties\": {\n        \"dtype\": \"number\",\n        \"std\": 115856.85393660555,\n        \"min\": 14999.0,\n        \"max\": 500001.0,\n        \"num_unique_values\": 2671,\n        \"samples\": [\n          100800.0,\n          109800.0,\n          114000.0\n        ],\n        \"semantic_type\": \"\",\n        \"description\": \"\"\n      }\n    },\n    {\n      \"column\": \"ocean_proximity\",\n      \"properties\": {\n        \"dtype\": \"category\",\n        \"num_unique_values\": 5,\n        \"samples\": [\n          \"<1H OCEAN\",\n          \"ISLAND\",\n          \"INLAND\"\n        ],\n        \"semantic_type\": \"\",\n        \"description\": \"\"\n      }\n    },\n    {\n      \"column\": \"numerical_feature_vector\",\n      \"properties\": {\n        \"dtype\": \"string\",\n        \"num_unique_values\": 6188,\n        \"samples\": [\n          \"[-122.51,38.76,9.0,2589.0,482.0,1050.0,374.0,4.0435]\",\n          \"[-122.01,37.91,21.0,10093.0,1269.0,3645.0,1219.0,7.6877]\",\n          \"[-117.62,33.64,2.0,7826.0,893.0,2985.0,790.0,10.1531]\"\n        ],\n        \"semantic_type\": \"\",\n        \"description\": \"\"\n      }\n    },\n    {\n      \"column\": \"scaled_numerical_feature_vector\",\n      \"properties\": {\n        \"dtype\": \"string\",\n        \"num_unique_values\": 6188,\n        \"samples\": [\n          \"[-1.4654041580081103,1.4529283224971483,-1.563683830643621,-0.02216915523354282,-0.133012193951838,-0.3254151844363052,-0.3240688562384763,0.0986741882329798]\",\n          \"[-1.2159845909512894,1.056411075029532,-0.6087698050452129,3.37188170378383,1.7115502936444895,1.91139640491424,1.8583936329335804,2.0156389679939797]\",\n          \"[0.9739192078075998,-0.935504979896019,-2.120717012242692,2.346520123640922,0.8302853694561552,1.342496347507165,0.7503742153539209,3.3125175608326733]\"\n        ],\n        \"semantic_type\": \"\",\n        \"description\": \"\"\n      }\n    },\n    {\n      \"column\": \"ocean_category_index\",\n      \"properties\": {\n        \"dtype\": \"number\",\n        \"std\": 1.0162189867780176,\n        \"min\": 0.0,\n        \"max\": 4.0,\n        \"num_unique_values\": 5,\n        \"samples\": [\n          0.0,\n          4.0,\n          1.0\n        ],\n        \"semantic_type\": \"\",\n        \"description\": \"\"\n      }\n    },\n    {\n      \"column\": \"ocean_category_one_hot_label\",\n      \"properties\": {\n        \"dtype\": \"category\",\n        \"num_unique_values\": 5,\n        \"samples\": [\n          \"(4,[0],[1.0])\",\n          \"(4,[],[])\",\n          \"(4,[1],[1.0])\"\n        ],\n        \"semantic_type\": \"\",\n        \"description\": \"\"\n      }\n    },\n    {\n      \"column\": \"final_feature_vector\",\n      \"properties\": {\n        \"dtype\": \"string\",\n        \"num_unique_values\": 6188,\n        \"samples\": [\n          \"[-1.4654041580081103,1.4529283224971483,-1.563683830643621,-0.02216915523354282,-0.133012193951838,-0.3254151844363052,-0.3240688562384763,0.0986741882329798,0.0,1.0,0.0,0.0]\",\n          \"[-1.2159845909512894,1.056411075029532,-0.6087698050452129,3.37188170378383,1.7115502936444895,1.91139640491424,1.8583936329335804,2.0156389679939797,0.0,0.0,0.0,1.0]\",\n          \"[0.9739192078075998,-0.935504979896019,-2.120717012242692,2.346520123640922,0.8302853694561552,1.342496347507165,0.7503742153539209,3.3125175608326733,1.0,0.0,0.0,0.0]\"\n        ],\n        \"semantic_type\": \"\",\n        \"description\": \"\"\n      }\n    },\n    {\n      \"column\": \"predicted_median_house_value\",\n      \"properties\": {\n        \"dtype\": \"number\",\n        \"std\": 90259.18371325279,\n        \"min\": -46535.51707988221,\n        \"max\": 673428.8146601093,\n        \"num_unique_values\": 6188,\n        \"samples\": [\n          165653.71449942322,\n          351077.65835494874,\n          396373.68061543873\n        ],\n        \"semantic_type\": \"\",\n        \"description\": \"\"\n      }\n    }\n  ]\n}"
            }
          },
          "metadata": {},
          "execution_count": 67
        }
      ]
    },
    {
      "cell_type": "code",
      "source": [
        "# display predicted median house value and median house value\n",
        "\n",
        "predictions_and_actuals = pred_test_df[['predicted_median_house_value','median_house_value']]\n",
        "predictions_and_actuals_rdd = predictions_and_actuals.rdd\n",
        "\n",
        "predictions_and_actuals_rdd.take(2)"
      ],
      "metadata": {
        "colab": {
          "base_uri": "https://localhost:8080/"
        },
        "id": "NOB9psenF1Mg",
        "outputId": "09a6db61-ed1a-4813-f649-9eb4e351e027"
      },
      "execution_count": 68,
      "outputs": [
        {
          "output_type": "execute_result",
          "data": {
            "text/plain": [
              "[Row(predicted_median_house_value=377094.10971291416, median_house_value=352100.0),\n",
              " Row(predicted_median_house_value=255630.27344916924, median_house_value=342200.0)]"
            ]
          },
          "metadata": {},
          "execution_count": 68
        }
      ]
    },
    {
      "cell_type": "code",
      "source": [
        "# convert into tuple  of predicted median house value and median house value\n",
        "predictions_and_actuals_rdd = predictions_and_actuals_rdd.map(tuple)\n",
        "predictions_and_actuals_rdd.take(2)"
      ],
      "metadata": {
        "colab": {
          "base_uri": "https://localhost:8080/"
        },
        "id": "Qgag1wpNGsjS",
        "outputId": "26a3da0d-271c-4ab0-d2cb-55d0e36e36e1"
      },
      "execution_count": 69,
      "outputs": [
        {
          "output_type": "execute_result",
          "data": {
            "text/plain": [
              "[(377094.10971291416, 352100.0), (255630.27344916924, 342200.0)]"
            ]
          },
          "metadata": {},
          "execution_count": 69
        }
      ]
    },
    {
      "cell_type": "code",
      "source": [
        "# Metrics\n",
        "from pyspark.mllib.evaluation import RegressionMetrics\n",
        "\n",
        "metrics = RegressionMetrics(predictions_and_actuals_rdd)\n",
        "\n",
        "s = '''\n",
        "Mean Squared Error:  {0}\n",
        "Root Mean Squared Error: {1}\n",
        "Mean Absolute Error: {2}\n",
        "R**2: {3}\n",
        "'''.format(metrics.meanAbsoluteError,\n",
        "           metrics.rootMeanSquaredError,\n",
        "           metrics.meanSquaredError,\n",
        "           metrics.r2)\n",
        "print(s)"
      ],
      "metadata": {
        "colab": {
          "base_uri": "https://localhost:8080/"
        },
        "id": "D3aLlbopHQsG",
        "outputId": "45fd89b1-cfd3-4d1b-fbb3-6126b0aa2b20"
      },
      "execution_count": 70,
      "outputs": [
        {
          "output_type": "stream",
          "name": "stderr",
          "text": [
            "/usr/local/lib/python3.10/dist-packages/pyspark/sql/context.py:158: FutureWarning: Deprecated in 3.0.0. Use SparkSession.builder.getOrCreate() instead.\n",
            "  warnings.warn(\n"
          ]
        },
        {
          "output_type": "stream",
          "name": "stdout",
          "text": [
            "\n",
            "Mean Squared Error:  50709.372871131694\n",
            "Root Mean Squared Error: 69069.64873239127\n",
            "Mean Absolute Error: 4770616376.015919\n",
            "R**2: 0.6445314183619053\n",
            "\n"
          ]
        }
      ]
    },
    {
      "cell_type": "code",
      "source": [],
      "metadata": {
        "id": "tcgbLE60IS1j"
      },
      "execution_count": 70,
      "outputs": []
    }
  ]
}