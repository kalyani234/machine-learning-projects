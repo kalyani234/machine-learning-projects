{
 "cells": [
  {
   "cell_type": "markdown",
   "id": "897a6231-b373-454d-963f-b53135c30d44",
   "metadata": {},
   "source": [
    "## Numpy"
   ]
  },
  {
   "cell_type": "markdown",
   "id": "9ba92774-3a86-46e0-a860-8b8193d86559",
   "metadata": {},
   "source": [
    "1. NumPy is Python’s key library for scientific and numerical computing.\n",
    "2. It centers around the **ndarray**, a powerful n-dimensional array object.\n",
    "3. NumPy arrays are **fixed-size** and require elements of the same data type.\n",
    "4. Faster than **Python lists—operations** are done in compiled code.\n",
    "5. Supports **vectorization**: write **math operations** without loops.\n",
    "6. **Broadcasting**: allows operations on **arrays with different shapes**.\n",
    "7. Used widely in scientific Python packages, knowing NumPy is essential for advanced math and data tasks.\n",
    "8. Flexible for both functional and object-oriented programming styles."
   ]
  },
  {
   "cell_type": "markdown",
   "id": "6077ec6a-26dd-4be6-92d8-ad62f8cfb2c1",
   "metadata": {},
   "source": [
    "### Importing"
   ]
  },
  {
   "cell_type": "code",
   "execution_count": 595,
   "id": "269b598f-160e-4128-a6fb-aed181e9803f",
   "metadata": {},
   "outputs": [],
   "source": [
    "import numpy as np"
   ]
  },
  {
   "cell_type": "markdown",
   "id": "2c10d8fb-b21c-469c-9e8b-40951ec1dd2b",
   "metadata": {},
   "source": [
    "### Creating Arrays"
   ]
  },
  {
   "cell_type": "markdown",
   "id": "b24a81f4-da6c-4ae3-a274-e810f4d68118",
   "metadata": {},
   "source": [
    "* From list: np.array([1, 2, 3])\n",
    "* Zeros: np.zeros(3) → [0. 0. 0.]\n",
    "* Ones: np.ones(2) → [1. 1.]\n",
    "* Range: np.arange(4) → [0 1 2 3]\n",
    "* Linspace: np.linspace(0, 1, 5) → [0. 0.25 0.5 0.75 1.]"
   ]
  },
  {
   "cell_type": "code",
   "execution_count": 598,
   "id": "463d15e8-323e-4759-b93a-247481f7ea64",
   "metadata": {},
   "outputs": [
    {
     "data": {
      "text/plain": [
       "array([1, 2, 3, 4, 5, 6])"
      ]
     },
     "execution_count": 598,
     "metadata": {},
     "output_type": "execute_result"
    }
   ],
   "source": [
    "x = np.array([1,2,3,4,5,6])\n",
    "x"
   ]
  },
  {
   "cell_type": "code",
   "execution_count": 599,
   "id": "6ee34001-1a75-45c1-b3f8-3f53c2e991c1",
   "metadata": {},
   "outputs": [
    {
     "data": {
      "text/plain": [
       "3"
      ]
     },
     "execution_count": 599,
     "metadata": {},
     "output_type": "execute_result"
    }
   ],
   "source": [
    "x[2]"
   ]
  },
  {
   "cell_type": "code",
   "execution_count": 600,
   "id": "25e9013c-ebe5-4924-ac15-8d30edc79adf",
   "metadata": {},
   "outputs": [
    {
     "data": {
      "text/plain": [
       "array([[1, 2],\n",
       "       [3, 4]])"
      ]
     },
     "execution_count": 600,
     "metadata": {},
     "output_type": "execute_result"
    }
   ],
   "source": [
    "a = np.array([[1,2],[3,4]])\n",
    "a"
   ]
  },
  {
   "cell_type": "code",
   "execution_count": 601,
   "id": "84700811-5ffb-43c6-95b2-5d94a28c0f46",
   "metadata": {},
   "outputs": [
    {
     "name": "stdout",
     "output_type": "stream",
     "text": [
      "dimension of an array 2\n"
     ]
    }
   ],
   "source": [
    "print('dimension of an array', a.ndim)"
   ]
  },
  {
   "cell_type": "code",
   "execution_count": 602,
   "id": "fadccb76-4a20-424b-9d85-03ea9a759f7e",
   "metadata": {},
   "outputs": [
    {
     "name": "stdout",
     "output_type": "stream",
     "text": [
      "length of an array 2\n"
     ]
    }
   ],
   "source": [
    "print('length of an array', len(a))"
   ]
  },
  {
   "cell_type": "code",
   "execution_count": 603,
   "id": "677de430-e5e3-458d-904d-8d5777d5300a",
   "metadata": {},
   "outputs": [
    {
     "name": "stdout",
     "output_type": "stream",
     "text": [
      "shape (2, 2)\n"
     ]
    }
   ],
   "source": [
    "print('shape', a.shape)"
   ]
  },
  {
   "cell_type": "code",
   "execution_count": 604,
   "id": "2223dd66-ed88-4256-a173-6f9d53cb91d9",
   "metadata": {},
   "outputs": [
    {
     "name": "stdout",
     "output_type": "stream",
     "text": [
      "size 4\n"
     ]
    }
   ],
   "source": [
    "print('size', a.size)"
   ]
  },
  {
   "cell_type": "code",
   "execution_count": 605,
   "id": "3730e345-edc0-462b-ad72-369919064749",
   "metadata": {},
   "outputs": [
    {
     "name": "stdout",
     "output_type": "stream",
     "text": [
      "[[[1 2 3]\n",
      "  [3 4 5]]]\n"
     ]
    }
   ],
   "source": [
    "a = np.array(\n",
    "    [[[1,2,3],\n",
    "     [3,4,5]]]\n",
    ")\n",
    "print(a)\n"
   ]
  },
  {
   "cell_type": "code",
   "execution_count": 606,
   "id": "81a895fa-e293-4025-8be4-9739c98b4c64",
   "metadata": {},
   "outputs": [
    {
     "name": "stdout",
     "output_type": "stream",
     "text": [
      "dimension of an array 3\n"
     ]
    }
   ],
   "source": [
    "print('dimension of an array', a.ndim)"
   ]
  },
  {
   "cell_type": "code",
   "execution_count": 607,
   "id": "b137ac89-0a68-4198-885d-ad915b9d7fe9",
   "metadata": {},
   "outputs": [
    {
     "name": "stdout",
     "output_type": "stream",
     "text": [
      "shape (1, 2, 3)\n"
     ]
    }
   ],
   "source": [
    "print('shape', a.shape)"
   ]
  },
  {
   "cell_type": "code",
   "execution_count": 608,
   "id": "8dda5f4f-a7fa-45a6-a666-5a2261c1f806",
   "metadata": {},
   "outputs": [
    {
     "data": {
      "text/plain": [
       "array([0., 0.])"
      ]
     },
     "execution_count": 608,
     "metadata": {},
     "output_type": "execute_result"
    }
   ],
   "source": [
    "np.zeros(2)"
   ]
  },
  {
   "cell_type": "code",
   "execution_count": 609,
   "id": "eb04b2da-1985-4393-bb9e-8de897601da3",
   "metadata": {},
   "outputs": [
    {
     "data": {
      "text/plain": [
       "array([[1., 1., 1.],\n",
       "       [1., 1., 1.]])"
      ]
     },
     "execution_count": 609,
     "metadata": {},
     "output_type": "execute_result"
    }
   ],
   "source": [
    "np.ones((2,3))"
   ]
  },
  {
   "cell_type": "code",
   "execution_count": 610,
   "id": "5797e48c-1ddb-4856-ba72-26fec6d0a710",
   "metadata": {},
   "outputs": [
    {
     "data": {
      "text/plain": [
       "array([[0., 0., 0.],\n",
       "       [0., 0., 0.]])"
      ]
     },
     "execution_count": 610,
     "metadata": {},
     "output_type": "execute_result"
    }
   ],
   "source": [
    "np.zeros((2,3))"
   ]
  },
  {
   "cell_type": "markdown",
   "id": "e9e09785-c122-4550-8efd-393d001a5b0b",
   "metadata": {},
   "source": [
    "### NumPy Data Types and Type Conversion (astype)\n"
   ]
  },
  {
   "cell_type": "markdown",
   "id": "69936d19-b9a0-4ce2-a57f-974efb206031",
   "metadata": {},
   "source": [
    "**What are NumPy Data Types?**\n",
    "* In NumPy, every array has a data type (called dtype), which describes the kind of elements it contains (like integer, float, complex, string, boolean, etc.).\n",
    "* All elements in a NumPy array must have the **same dtype**. This is different from Python lists, which can hold mixed types."
   ]
  },
  {
   "cell_type": "markdown",
   "id": "d62dac99-a436-45ee-b868-318147c953ad",
   "metadata": {},
   "source": [
    "**Why does dtype matter?**\n",
    "* Determines the kind of operations you can do (e.g., you can’t add strings and numbers).\n",
    "* Affects memory usage (an int8 uses less memory than a float64).\n",
    "* Avoids accidental errors due to type mismatch."
   ]
  },
  {
   "cell_type": "markdown",
   "id": "24b6b1bd-a310-4717-a20a-af18827f78d0",
   "metadata": {},
   "source": [
    "**Viewing the Data Type of a NumPy Array**"
   ]
  },
  {
   "cell_type": "code",
   "execution_count": 615,
   "id": "8226d080-2dac-480e-b290-907124efb24e",
   "metadata": {},
   "outputs": [
    {
     "name": "stdout",
     "output_type": "stream",
     "text": [
      "int64\n",
      "float64\n"
     ]
    }
   ],
   "source": [
    "import numpy as np\n",
    "\n",
    "a = np.array([1, 2, 3])\n",
    "print(a.dtype)  # Typically: int64 or int32\n",
    "\n",
    "b = np.array([1.2, 3.4, 5.6])\n",
    "print(b.dtype)  # float64\n"
   ]
  },
  {
   "cell_type": "markdown",
   "id": "02d6807d-d164-4624-9cae-61d4f6167bbf",
   "metadata": {},
   "source": [
    "### NumPy Data Types Table\n",
    "\n",
    "| Data Type                         | Code(s)                | Description       | Example                                      |\n",
    "|----------------------------------|------------------------|-------------------|----------------------------------------------|\n",
    "| `int8`, `int16`, `int32`, `int64` | `'i1'`, `'i2'`, `'i4'`, `'i8'` | Signed integer    | `np.array([1, 2], dtype='int16')`             |\n",
    "| `uint8`, `uint16`, `uint32`, `uint64` | `'u1'`, `'u2'`, `'u4'`, `'u8'` | Unsigned integer  | `np.array([1, 2], dtype='uint8')`             |\n",
    "| `float16`, `float32`, `float64`   | `'f2'`, `'f4'`, `'f8'` | Floating point    | `np.array([1., 2.], dtype='float32')`         |\n",
    "| `complex64`, `complex128`         | `'c8'`, `'c16'`        | Complex numbers   | `np.array([1+2j], dtype='complex64')`         |\n",
    "| `bool_`                           | `'?'`                 | Boolean           | `np.array([True, False])`                     |\n",
    "| `S` (string), `U` (unicode)       | `'S'`, `'U'`          | String/Unicode    | `np.array(['abc'], dtype='S')`                |\n"
   ]
  },
  {
   "cell_type": "code",
   "execution_count": 617,
   "id": "5a735342-9a88-4f58-96ac-a31fb3673dc2",
   "metadata": {},
   "outputs": [
    {
     "data": {
      "text/plain": [
       "array([23, 34,  5,  1,  3, 45])"
      ]
     },
     "execution_count": 617,
     "metadata": {},
     "output_type": "execute_result"
    }
   ],
   "source": [
    "m = np.array([23,34,5,1,3,45])\n",
    "m"
   ]
  },
  {
   "cell_type": "markdown",
   "id": "ba163b9c-507f-4e40-8976-1683dd1c3f03",
   "metadata": {},
   "source": [
    "### Quick Reference Table\n",
    "\n",
    "| Operation                         | Code Example                     | Notes                          |\n",
    "|----------------------------------|----------------------------------|--------------------------------|\n",
    "| Integer to float                 | `arr.astype(np.float64)`         | `1 → 1.0`                      |\n",
    "| Float to integer                 | `arr.astype(np.int32)`           | `2.7 → 2`                      |\n",
    "| Integer to string                | `arr.astype(str)`                | `5 → '5'`                      |\n",
    "| String number to integer/float  | `arr.astype(int)` or `arr.astype(float)` | Must be valid string         |\n",
    "| Any to boolean                   | `arr.astype(bool)`               | `0 → False`, else → `True`    |\n"
   ]
  },
  {
   "cell_type": "code",
   "execution_count": 619,
   "id": "8619bbaf-d4a4-4cde-b361-39af52e98176",
   "metadata": {},
   "outputs": [
    {
     "name": "stdout",
     "output_type": "stream",
     "text": [
      "[ 1  3  5 23 34 45]\n"
     ]
    }
   ],
   "source": [
    "print(np.sort(m))\n",
    "    "
   ]
  },
  {
   "cell_type": "code",
   "execution_count": 620,
   "id": "01d3a72a-5020-4d8e-8547-dd7182f3dbba",
   "metadata": {},
   "outputs": [
    {
     "data": {
      "text/plain": [
       "array([3, 4, 2, 0, 1, 5])"
      ]
     },
     "execution_count": 620,
     "metadata": {},
     "output_type": "execute_result"
    }
   ],
   "source": [
    "np.argsort(m) # sort as per indices"
   ]
  },
  {
   "cell_type": "code",
   "execution_count": 621,
   "id": "783c5535-819c-4787-be3b-5d115f4fe6fd",
   "metadata": {},
   "outputs": [
    {
     "name": "stdout",
     "output_type": "stream",
     "text": [
      "[12  3 10 20 20 30 40 50]\n"
     ]
    }
   ],
   "source": [
    "d = np.array([12,3,10,20])\n",
    "f = np.array([20,30,40,50])\n",
    "\n",
    "z = np.concatenate((d,f))\n",
    "print(z)"
   ]
  },
  {
   "cell_type": "code",
   "execution_count": 622,
   "id": "84ed8b98-4196-4bf8-84a5-08bef2fbde08",
   "metadata": {},
   "outputs": [
    {
     "name": "stdout",
     "output_type": "stream",
     "text": [
      "[ 2  4  6  8 10 12]\n"
     ]
    }
   ],
   "source": [
    "arr = np.arange(2,14,2)\n",
    "print(arr)"
   ]
  },
  {
   "cell_type": "code",
   "execution_count": 623,
   "id": "0b012641-6a88-4024-b726-ef34b711125b",
   "metadata": {},
   "outputs": [
    {
     "data": {
      "text/plain": [
       "array([[ 2,  4,  6],\n",
       "       [ 8, 10, 12]])"
      ]
     },
     "execution_count": 623,
     "metadata": {},
     "output_type": "execute_result"
    }
   ],
   "source": [
    "g = arr.reshape(2,3)\n",
    "g"
   ]
  },
  {
   "cell_type": "code",
   "execution_count": 624,
   "id": "4f46d9ac-cd04-48f3-8474-c196d48ff166",
   "metadata": {},
   "outputs": [
    {
     "data": {
      "text/plain": [
       "array([[ 2,  4],\n",
       "       [ 6,  8],\n",
       "       [10, 12]])"
      ]
     },
     "execution_count": 624,
     "metadata": {},
     "output_type": "execute_result"
    }
   ],
   "source": [
    "g = arr.reshape(3,2)\n",
    "g"
   ]
  },
  {
   "cell_type": "code",
   "execution_count": 625,
   "id": "a52b1288-2e24-4d6c-8a73-a6d89111570b",
   "metadata": {},
   "outputs": [],
   "source": [
    "# Index"
   ]
  },
  {
   "cell_type": "code",
   "execution_count": 626,
   "id": "e5eb18f5-5c8e-4fa9-b01a-0c1a83c54ab4",
   "metadata": {},
   "outputs": [
    {
     "name": "stdout",
     "output_type": "stream",
     "text": [
      "[ 0  1  2 45 55 89  3 33 45]\n"
     ]
    }
   ],
   "source": [
    "f = np.array([0,1,2,45,55,89,3,33,45])\n",
    "print(f)"
   ]
  },
  {
   "cell_type": "code",
   "execution_count": 627,
   "id": "ae5511b5-ddcb-409b-8146-c5d7f79ce718",
   "metadata": {},
   "outputs": [
    {
     "data": {
      "text/plain": [
       "array([0, 1])"
      ]
     },
     "execution_count": 627,
     "metadata": {},
     "output_type": "execute_result"
    }
   ],
   "source": [
    "f[:2]"
   ]
  },
  {
   "cell_type": "code",
   "execution_count": 628,
   "id": "683ec59c-4027-4073-b38c-55497df2b5ad",
   "metadata": {},
   "outputs": [
    {
     "data": {
      "text/plain": [
       "array([45, 55])"
      ]
     },
     "execution_count": 628,
     "metadata": {},
     "output_type": "execute_result"
    }
   ],
   "source": [
    "f[3:5]"
   ]
  },
  {
   "cell_type": "code",
   "execution_count": 629,
   "id": "0205de0a-138c-4536-a19e-b294b48db283",
   "metadata": {},
   "outputs": [
    {
     "data": {
      "text/plain": [
       "array([ 0,  1,  2, 45])"
      ]
     },
     "execution_count": 629,
     "metadata": {},
     "output_type": "execute_result"
    }
   ],
   "source": [
    "f[:4]"
   ]
  },
  {
   "cell_type": "code",
   "execution_count": 630,
   "id": "7a3f23e0-f907-4083-bd16-7d66c6c0452e",
   "metadata": {},
   "outputs": [
    {
     "name": "stdout",
     "output_type": "stream",
     "text": [
      "[ 0  1  2 45 55 89  3 33 45]\n"
     ]
    }
   ],
   "source": [
    "m = np.array([0,1,2,45,55,89,3,33,45])\n",
    "print(m)"
   ]
  },
  {
   "cell_type": "code",
   "execution_count": 631,
   "id": "9e4d05a8-05c0-41d2-8821-225ba1f242f5",
   "metadata": {},
   "outputs": [
    {
     "data": {
      "text/plain": [
       "array([ 3, 33])"
      ]
     },
     "execution_count": 631,
     "metadata": {},
     "output_type": "execute_result"
    }
   ],
   "source": [
    "m[-3:-1]"
   ]
  },
  {
   "cell_type": "code",
   "execution_count": 632,
   "id": "4bb575bc-32e4-48c1-a56a-657ace25bffa",
   "metadata": {},
   "outputs": [
    {
     "data": {
      "text/plain": [
       "array([89,  3, 33])"
      ]
     },
     "execution_count": 632,
     "metadata": {},
     "output_type": "execute_result"
    }
   ],
   "source": [
    "m[-4:-1]"
   ]
  },
  {
   "cell_type": "code",
   "execution_count": 633,
   "id": "ab45c0d3-3420-4dc6-b84a-b297ad5b3afb",
   "metadata": {},
   "outputs": [
    {
     "data": {
      "text/plain": [
       "array([], dtype=int64)"
      ]
     },
     "execution_count": 633,
     "metadata": {},
     "output_type": "execute_result"
    }
   ],
   "source": [
    "m[-1:-3] # after 45 no element is present to print"
   ]
  },
  {
   "cell_type": "code",
   "execution_count": 634,
   "id": "71dec8f1-7232-449b-aac5-1c0307a7bd89",
   "metadata": {},
   "outputs": [
    {
     "data": {
      "text/plain": [
       "array([45, 33])"
      ]
     },
     "execution_count": 634,
     "metadata": {},
     "output_type": "execute_result"
    }
   ],
   "source": [
    "m[-1:-3: -1] # if we add step function -1 then it changes the direction to backward and prints the elements"
   ]
  },
  {
   "cell_type": "code",
   "execution_count": 635,
   "id": "479d6eed-ceea-461f-b442-8f7206c1e61d",
   "metadata": {},
   "outputs": [
    {
     "data": {
      "text/plain": [
       "array([ True,  True,  True, False, False, False,  True, False, False])"
      ]
     },
     "execution_count": 635,
     "metadata": {},
     "output_type": "execute_result"
    }
   ],
   "source": [
    "m<30"
   ]
  },
  {
   "cell_type": "code",
   "execution_count": 636,
   "id": "3c202c6d-82f9-4796-8a83-ed1caa12f783",
   "metadata": {},
   "outputs": [
    {
     "data": {
      "text/plain": [
       "array([ 0,  1,  2,  3, 33])"
      ]
     },
     "execution_count": 636,
     "metadata": {},
     "output_type": "execute_result"
    }
   ],
   "source": [
    "m[m<40]"
   ]
  },
  {
   "cell_type": "code",
   "execution_count": 637,
   "id": "e2c007a7-686c-41ae-be55-ef780f4f0d34",
   "metadata": {},
   "outputs": [
    {
     "data": {
      "text/plain": [
       "array([[10,  3, 42],\n",
       "       [ 2, 30,  4],\n",
       "       [22, 45,  2]])"
      ]
     },
     "execution_count": 637,
     "metadata": {},
     "output_type": "execute_result"
    }
   ],
   "source": [
    "n = np.array([[10,3,42],[2,30,4],[22,45,2]])\n",
    "n"
   ]
  },
  {
   "cell_type": "code",
   "execution_count": 638,
   "id": "2f1b0de1-a2e7-44d3-afba-8fdcaa87a2d7",
   "metadata": {},
   "outputs": [
    {
     "data": {
      "text/plain": [
       "(3, 3)"
      ]
     },
     "execution_count": 638,
     "metadata": {},
     "output_type": "execute_result"
    }
   ],
   "source": [
    "n.shape"
   ]
  },
  {
   "cell_type": "code",
   "execution_count": 639,
   "id": "cb120ade-d1b1-4b3c-8b84-0951106ce747",
   "metadata": {},
   "outputs": [
    {
     "data": {
      "text/plain": [
       "array([[ 2, 30,  4],\n",
       "       [22, 45,  2]])"
      ]
     },
     "execution_count": 639,
     "metadata": {},
     "output_type": "execute_result"
    }
   ],
   "source": [
    "n[1:5]"
   ]
  },
  {
   "cell_type": "code",
   "execution_count": 640,
   "id": "f477cd4c-b702-4b71-8df6-a300b8e42d77",
   "metadata": {},
   "outputs": [
    {
     "data": {
      "text/plain": [
       "array([10,  3,  2,  4, 22,  2])"
      ]
     },
     "execution_count": 640,
     "metadata": {},
     "output_type": "execute_result"
    }
   ],
   "source": [
    "n[(n<7) | (n<30)]"
   ]
  },
  {
   "cell_type": "markdown",
   "id": "4858e4c4-4de5-46ab-801b-0082ada9f7d8",
   "metadata": {},
   "source": [
    "### Array Properties and Utility Functions "
   ]
  },
  {
   "cell_type": "code",
   "execution_count": 642,
   "id": "604e337c-0207-4bb5-84c5-09077721e2d2",
   "metadata": {},
   "outputs": [
    {
     "name": "stdout",
     "output_type": "stream",
     "text": [
      "(3, 4)\n",
      "2\n",
      "12\n",
      "8\n",
      "96\n",
      "[[ 0  4  8]\n",
      " [ 1  5  9]\n",
      " [ 2  6 10]\n",
      " [ 3  7 11]]\n",
      "[[-1  1  2  3]\n",
      " [ 4 -1  6  7]\n",
      " [ 8  9 -1 11]]\n"
     ]
    }
   ],
   "source": [
    "a = np.arange(12).reshape(3,4)\n",
    "print(a.shape)     # (3,4)\n",
    "print(a.ndim)      # 2\n",
    "print(a.size)      # 12\n",
    "print(a.itemsize)  # Bytes per element\n",
    "print(a.nbytes)    # Total bytes\n",
    "print(a.T)         # Transpose\n",
    "np.fill_diagonal(a, -1)\n",
    "print(a)\n"
   ]
  },
  {
   "cell_type": "markdown",
   "id": "de155bb2-8431-4e82-a6a5-2a1963cd0781",
   "metadata": {},
   "source": [
    "### Arithmetic and Aggregate Functions \n"
   ]
  },
  {
   "cell_type": "code",
   "execution_count": 644,
   "id": "2d241a13-6889-43df-9f43-df31d0434d13",
   "metadata": {},
   "outputs": [
    {
     "name": "stdout",
     "output_type": "stream",
     "text": [
      "[5 7 9]\n",
      "2.0\n",
      "6\n",
      "6\n",
      "[1 3 6]\n"
     ]
    }
   ],
   "source": [
    "a = np.array([1, 2, 3])\n",
    "b = np.array([4, 5, 6])\n",
    "print(a + b)         # [5 7 9], elementwise addition\n",
    "print(a.mean())      # 2.0\n",
    "print(a.sum())       # 6\n",
    "print(b.max())       # 6\n",
    "print(a.cumsum())    # [1, 3, 6]\n"
   ]
  },
  {
   "cell_type": "markdown",
   "id": "9d6377a0-de0d-4d70-a44e-efd4b0be0668",
   "metadata": {},
   "source": [
    "### Linear Algebra Routines"
   ]
  },
  {
   "cell_type": "code",
   "execution_count": 646,
   "id": "f48aedee-3f08-4c80-91d1-6c2ccd510b73",
   "metadata": {},
   "outputs": [
    {
     "name": "stdout",
     "output_type": "stream",
     "text": [
      "[[19 22]\n",
      " [43 50]]\n",
      "[[-2.   1. ]\n",
      " [ 1.5 -0.5]]\n",
      "EigResult(eigenvalues=array([-0.37228132,  5.37228132]), eigenvectors=array([[-0.82456484, -0.41597356],\n",
      "       [ 0.56576746, -0.90937671]]))\n",
      "-2.0000000000000004\n"
     ]
    }
   ],
   "source": [
    "a = np.array([[1, 2], [3, 4]])\n",
    "b = np.array([[5, 6], [7, 8]])\n",
    "print(np.dot(a, b))            # Matrix multiplication\n",
    "print(np.linalg.inv(a))        # Inverse of matrix\n",
    "print(np.linalg.eig(a))        # Eigenvalues/vectors\n",
    "print(np.linalg.det(a))        # Determinant\n"
   ]
  },
  {
   "cell_type": "markdown",
   "id": "6979ae07-7c1c-42af-907b-d1bcab7c3e99",
   "metadata": {},
   "source": [
    "### np.hstack() and np.vstack()\n",
    "\n"
   ]
  },
  {
   "cell_type": "code",
   "execution_count": 648,
   "id": "66679905-d4cb-4a00-bfd7-bdf740a57df2",
   "metadata": {},
   "outputs": [],
   "source": [
    "a1 = np.array([[1,2,3,4],[10,20,30,40]])\n",
    "a2 = np.array([[5,10,15,20],[25,35,45,50]])"
   ]
  },
  {
   "cell_type": "markdown",
   "id": "f813e742-f67a-4a88-98b2-86c7cf595fde",
   "metadata": {},
   "source": [
    "**np.vstack()** Stacks (joins) arrays in sequence vertically (row-wise).\n",
    "**The arrays are joined one after the other (rows increase).**"
   ]
  },
  {
   "cell_type": "code",
   "execution_count": 650,
   "id": "64c6b2b9-ca07-4c6c-9c02-6de3323a3651",
   "metadata": {},
   "outputs": [
    {
     "data": {
      "text/plain": [
       "array([[ 1,  2,  3,  4],\n",
       "       [10, 20, 30, 40],\n",
       "       [ 5, 10, 15, 20],\n",
       "       [25, 35, 45, 50]])"
      ]
     },
     "execution_count": 650,
     "metadata": {},
     "output_type": "execute_result"
    }
   ],
   "source": [
    "np.vstack((a1,a2))"
   ]
  },
  {
   "cell_type": "markdown",
   "id": "2367d7a3-0768-4ff4-8915-eced40325c68",
   "metadata": {},
   "source": [
    "**np.hstack()** - Stacks (joins) arrays in sequence horizontally (column-wise).\n",
    "**The arrays are joined side by side (columns increase).**"
   ]
  },
  {
   "cell_type": "code",
   "execution_count": 652,
   "id": "585322ae-a662-45af-901d-ad0104dce3b2",
   "metadata": {},
   "outputs": [
    {
     "data": {
      "text/plain": [
       "array([[ 1,  2,  3,  4,  5, 10, 15, 20],\n",
       "       [10, 20, 30, 40, 25, 35, 45, 50]])"
      ]
     },
     "execution_count": 652,
     "metadata": {},
     "output_type": "execute_result"
    }
   ],
   "source": [
    "np.hstack((a1,a2))"
   ]
  },
  {
   "cell_type": "markdown",
   "id": "dcf51a11-f8fc-41f1-8bbc-60a17601eb51",
   "metadata": {},
   "source": [
    "### View vs Copy in NumPy"
   ]
  },
  {
   "cell_type": "markdown",
   "id": "8f9bd2df-40d1-48cd-857b-575bff69365f",
   "metadata": {},
   "source": [
    "**View** : A view is a **new array object that looks at the same data as the original array (no actual data is copied).**\n",
    "**Changing data in the view changes the original array, and vice versa.**"
   ]
  },
  {
   "cell_type": "code",
   "execution_count": 655,
   "id": "bd33d207-6456-4b90-8d3d-aafbea7c1793",
   "metadata": {},
   "outputs": [
    {
     "name": "stdout",
     "output_type": "stream",
     "text": [
      "Original a: [ 1  2  3  4 10 15]\n",
      "View b: [1 2 3 4]\n"
     ]
    }
   ],
   "source": [
    "import numpy as np\n",
    "\n",
    "# Original array\n",
    "a = np.array([1, 2, 3, 4, 10,15])\n",
    "# Create a view\n",
    "b = a[:4]  # Slice creates a view\n",
    "print(\"Original a:\", a)\n",
    "print(\"View b:\", b)\n",
    "\n",
    "\n"
   ]
  },
  {
   "cell_type": "code",
   "execution_count": 656,
   "id": "667eda9a-92e3-4c62-970c-3f1b549e46a7",
   "metadata": {},
   "outputs": [
    {
     "name": "stdout",
     "output_type": "stream",
     "text": [
      "Modified b: [9 2 3 4]\n",
      "Original a after modifying b: [ 9  2  3  4 10 15]\n"
     ]
    }
   ],
   "source": [
    "# Modify the view\n",
    "b[0] = 9\n",
    "print(\"Modified b:\", b)\n",
    "print(\"Original a after modifying b:\", a)\n"
   ]
  },
  {
   "cell_type": "markdown",
   "id": "1399f996-4644-4af2-8139-d809aa5adb2d",
   "metadata": {},
   "source": [
    "**Copy** A copy is a **new array object** with its own separate data, independent of the original array.\n",
    "**Changing data in the copy does NOT affect the original array.**"
   ]
  },
  {
   "cell_type": "code",
   "execution_count": 658,
   "id": "edaff9c6-8a7a-4471-b408-d4166ca8ce2b",
   "metadata": {},
   "outputs": [
    {
     "name": "stdout",
     "output_type": "stream",
     "text": [
      "Original a: [1 2 3 4]\n",
      "Copy c: [1 2 3 4]\n"
     ]
    }
   ],
   "source": [
    "# Original array\n",
    "a = np.array([1, 2, 3, 4])\n",
    "# Create a copy\n",
    "c = a.copy()  # Explicit copy\n",
    "print(\"Original a:\", a)\n",
    "print(\"Copy c:\", c)\n",
    "\n"
   ]
  },
  {
   "cell_type": "code",
   "execution_count": 659,
   "id": "cadd32cd-6c26-4ad9-adb7-d4daa737a8e9",
   "metadata": {},
   "outputs": [
    {
     "name": "stdout",
     "output_type": "stream",
     "text": [
      "Modified c: [99  2  3  4]\n",
      "Original a after modifying c: [1 2 3 4]\n"
     ]
    }
   ],
   "source": [
    "# Modify the copy\n",
    "c[0] = 99\n",
    "print(\"Modified c:\", c)\n",
    "print(\"Original a after modifying c:\", a)"
   ]
  },
  {
   "cell_type": "code",
   "execution_count": 660,
   "id": "d24858d9-92c3-4f0f-8549-11e067363439",
   "metadata": {},
   "outputs": [
    {
     "name": "stdout",
     "output_type": "stream",
     "text": [
      "View b: [99  2]\n",
      "Original a: [99  2  3  4]\n",
      "True\n"
     ]
    }
   ],
   "source": [
    "import numpy as np\n",
    "\n",
    "a = np.array([1, 2, 3, 4])\n",
    "b = a[:2]  # View via slicing\n",
    "b[0] = 99\n",
    "print(\"View b:\", b)        # [99  2]\n",
    "print(\"Original a:\", a)    # [99  2  3  4]\n",
    "print(b.base is a)         # True (shares data)"
   ]
  },
  {
   "cell_type": "code",
   "execution_count": 661,
   "id": "9c363dd3-0902-47fc-a18a-8b6bfbebb122",
   "metadata": {},
   "outputs": [
    {
     "name": "stdout",
     "output_type": "stream",
     "text": [
      "Copy c: [99  2  3  4]\n",
      "Original a: [1 2 3 4]\n",
      "True\n"
     ]
    }
   ],
   "source": [
    "a = np.array([1, 2, 3, 4])\n",
    "c = a.copy()  # Explicit copy\n",
    "c[0] = 99\n",
    "print(\"Copy c:\", c)        # [99  2  3  4]\n",
    "print(\"Original a:\", a)    # [1 2 3 4] (unchanged)\n",
    "print(c.base is None)      # True (independent data)"
   ]
  },
  {
   "cell_type": "markdown",
   "id": "bf268c5c-7f5f-4345-bb78-00e39e620c4b",
   "metadata": {},
   "source": [
    "### **flatten() vs ravel() in NumPy**"
   ]
  },
  {
   "cell_type": "markdown",
   "id": "7888cbca-0d69-40f5-be48-8a8840b7eb71",
   "metadata": {},
   "source": [
    "**flatten()**\n",
    "* Returns a new 1D copy of the array (always copies data).\n",
    "* Changes made to the flattened array do not affect the original array."
   ]
  },
  {
   "cell_type": "code",
   "execution_count": 664,
   "id": "6191a55c-88cf-494e-abe8-dfe19ac38150",
   "metadata": {},
   "outputs": [
    {
     "name": "stdout",
     "output_type": "stream",
     "text": [
      "[[1 2]\n",
      " [3 4]]\n",
      "[99  2  3  4]\n"
     ]
    }
   ],
   "source": [
    "import numpy as np\n",
    "a = np.array([[1, 2], [3, 4]])\n",
    "b = a.flatten()\n",
    "b[0] = 99\n",
    "print(a)  # [[1 2]\n",
    "          #  [3 4]]\n",
    "print(b)  # [99 2 3 4]\n"
   ]
  },
  {
   "cell_type": "markdown",
   "id": "eac7af0c-fc09-4b97-936d-9ce21c9d3d7d",
   "metadata": {},
   "source": [
    "**ravel()** \n",
    "* Returns a flattened 1D array; it is a view if possible (no copy), otherwise a copy (if needed).\n",
    "* Changes to ravel’s result may affect the original array (if it is a view)."
   ]
  },
  {
   "cell_type": "code",
   "execution_count": 666,
   "id": "7a4d7c56-8dfd-43a6-a23b-efdbc53e4c25",
   "metadata": {},
   "outputs": [
    {
     "name": "stdout",
     "output_type": "stream",
     "text": [
      "[[99  2]\n",
      " [ 3  4]]\n",
      "[99  2  3  4]\n"
     ]
    }
   ],
   "source": [
    "a = np.array([[1, 2], [3, 4]])\n",
    "b = a.ravel()\n",
    "b[0] = 99\n",
    "print(a)  # [[99  2]\n",
    "          #  [ 3  4]]\n",
    "print(b)  # [99 2 3 4]\n"
   ]
  },
  {
   "cell_type": "markdown",
   "id": "e5af1907-ad56-45dd-b8d1-f5a29b315e0d",
   "metadata": {},
   "source": [
    "### Accessing Documentation & Help"
   ]
  },
  {
   "cell_type": "code",
   "execution_count": 668,
   "id": "dfdf56db-7c9f-49ca-8db9-2c7c02335047",
   "metadata": {},
   "outputs": [
    {
     "name": "stdout",
     "output_type": "stream",
     "text": [
      "Help on _ArrayFunctionDispatcher in module numpy:\n",
      "\n",
      "mean(a, axis=None, dtype=None, out=None, keepdims=<no value>, *, where=<no value>)\n",
      "    Compute the arithmetic mean along the specified axis.\n",
      "\n",
      "    Returns the average of the array elements.  The average is taken over\n",
      "    the flattened array by default, otherwise over the specified axis.\n",
      "    `float64` intermediate and return values are used for integer inputs.\n",
      "\n",
      "    Parameters\n",
      "    ----------\n",
      "    a : array_like\n",
      "        Array containing numbers whose mean is desired. If `a` is not an\n",
      "        array, a conversion is attempted.\n",
      "    axis : None or int or tuple of ints, optional\n",
      "        Axis or axes along which the means are computed. The default is to\n",
      "        compute the mean of the flattened array.\n",
      "\n",
      "        .. versionadded:: 1.7.0\n",
      "\n",
      "        If this is a tuple of ints, a mean is performed over multiple axes,\n",
      "        instead of a single axis or all the axes as before.\n",
      "    dtype : data-type, optional\n",
      "        Type to use in computing the mean.  For integer inputs, the default\n",
      "        is `float64`; for floating point inputs, it is the same as the\n",
      "        input dtype.\n",
      "    out : ndarray, optional\n",
      "        Alternate output array in which to place the result.  The default\n",
      "        is ``None``; if provided, it must have the same shape as the\n",
      "        expected output, but the type will be cast if necessary.\n",
      "        See :ref:`ufuncs-output-type` for more details.\n",
      "\n",
      "    keepdims : bool, optional\n",
      "        If this is set to True, the axes which are reduced are left\n",
      "        in the result as dimensions with size one. With this option,\n",
      "        the result will broadcast correctly against the input array.\n",
      "\n",
      "        If the default value is passed, then `keepdims` will not be\n",
      "        passed through to the `mean` method of sub-classes of\n",
      "        `ndarray`, however any non-default value will be.  If the\n",
      "        sub-class' method does not implement `keepdims` any\n",
      "        exceptions will be raised.\n",
      "\n",
      "    where : array_like of bool, optional\n",
      "        Elements to include in the mean. See `~numpy.ufunc.reduce` for details.\n",
      "\n",
      "        .. versionadded:: 1.20.0\n",
      "\n",
      "    Returns\n",
      "    -------\n",
      "    m : ndarray, see dtype parameter above\n",
      "        If `out=None`, returns a new array containing the mean values,\n",
      "        otherwise a reference to the output array is returned.\n",
      "\n",
      "    See Also\n",
      "    --------\n",
      "    average : Weighted average\n",
      "    std, var, nanmean, nanstd, nanvar\n",
      "\n",
      "    Notes\n",
      "    -----\n",
      "    The arithmetic mean is the sum of the elements along the axis divided\n",
      "    by the number of elements.\n",
      "\n",
      "    Note that for floating-point input, the mean is computed using the\n",
      "    same precision the input has.  Depending on the input data, this can\n",
      "    cause the results to be inaccurate, especially for `float32` (see\n",
      "    example below).  Specifying a higher-precision accumulator using the\n",
      "    `dtype` keyword can alleviate this issue.\n",
      "\n",
      "    By default, `float16` results are computed using `float32` intermediates\n",
      "    for extra precision.\n",
      "\n",
      "    Examples\n",
      "    --------\n",
      "    >>> a = np.array([[1, 2], [3, 4]])\n",
      "    >>> np.mean(a)\n",
      "    2.5\n",
      "    >>> np.mean(a, axis=0)\n",
      "    array([2., 3.])\n",
      "    >>> np.mean(a, axis=1)\n",
      "    array([1.5, 3.5])\n",
      "\n",
      "    In single precision, `mean` can be inaccurate:\n",
      "\n",
      "    >>> a = np.zeros((2, 512*512), dtype=np.float32)\n",
      "    >>> a[0, :] = 1.0\n",
      "    >>> a[1, :] = 0.1\n",
      "    >>> np.mean(a)\n",
      "    0.54999924\n",
      "\n",
      "    Computing the mean in float64 is more accurate:\n",
      "\n",
      "    >>> np.mean(a, dtype=np.float64)\n",
      "    0.55000000074505806 # may vary\n",
      "\n",
      "    Specifying a where argument:\n",
      "\n",
      "    >>> a = np.array([[5, 9, 13], [14, 10, 12], [11, 15, 19]])\n",
      "    >>> np.mean(a)\n",
      "    12.0\n",
      "    >>> np.mean(a, where=[[True], [False], [False]])\n",
      "    9.0\n",
      "\n"
     ]
    }
   ],
   "source": [
    "help(np.mean)\n",
    "# In IPython or Jupyter\n",
    "# np.mean?\n"
   ]
  }
 ],
 "metadata": {
  "kernelspec": {
   "display_name": "Python 3 (ipykernel)",
   "language": "python",
   "name": "python3"
  },
  "language_info": {
   "codemirror_mode": {
    "name": "ipython",
    "version": 3
   },
   "file_extension": ".py",
   "mimetype": "text/x-python",
   "name": "python",
   "nbconvert_exporter": "python",
   "pygments_lexer": "ipython3",
   "version": "3.12.4"
  }
 },
 "nbformat": 4,
 "nbformat_minor": 5
}
